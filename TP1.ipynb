{
 "cells": [
  {
   "cell_type": "markdown",
   "metadata": {},
   "source": [
    "## Primera parte\n",
    "\n",
    "El objetivo de esta sección es deducir una fórmula para la solución óptima $\\beta^{\\ast}$ siguiendo los pasos a continuación:"
   ]
  },
  {
   "cell_type": "markdown",
   "metadata": {
    "id": "RPuEHyZ3KN6P"
   },
   "source": [
    "a) Mostrar que el espacio columna de la matriz X es un subespacio vectorial de $\\rm I\\!R^n$:\n",
    "\n",
    "$$Col(X)= \\{b \\text{ en } \\rm I\\!R^n \\text{ tales que } b = X \\beta \\text{ con } \\beta \\text{ variando en } \\rm I\\!R^p \\}$$"
   ]
  },
  {
   "attachments": {},
   "cell_type": "markdown",
   "metadata": {},
   "source": [
    "Para mostrar que $Col(X)$ es un subespacio vectorial de $\\rm I\\!R^n$, debemos demostrar que $Col(X)$ cumple con las siguientes propiedades:\n",
    "\n",
    "1. El vector cero pertenece al espacio $Col(X)$.\n",
    "\n",
    "$$Col(X) = Gen\\{x_1, x_2, \\dots, x_p\\}$$\n",
    "\n",
    "El vector $0$ está en $Col(X)$ porque $0 * x_1 + 0 * x_2$ es combinación lineal de los vectores de $Col(X)$.\n",
    "\n",
    "2. La suma de dos vectores pertenecientes a $Col(X)$ también pertenece a $Col(X)$.\n",
    "\n",
    "Sean $u$, $v$ vectores en $Col(X)$, $s_1$, $s_2$ y $t_1$, $t_2$ escalares tales que:\n",
    "\n",
    "$$u = s_1 x_1 + s_2 x_2 \\iff u \\in Col(X)$$\n",
    "\n",
    "Por ser combinación lineal de los vectores de $Col(X)$.\n",
    "\n",
    "$$v = t_1 x_1 + t_2 x_2 \\iff v \\in Col(X)$$\n",
    "\n",
    "Por ser combinación lineal de los vectores de $Col(X)$.\n",
    "\n",
    "Entonces:\n",
    "\n",
    "$$u + v = s_1 x_1 + s_2 x_2 + t_1 x_1 + t_2 x_2$$\n",
    "$$u + v = (s_1 + t_1) x_1 + (s_2 + t_2) x_2$$\n",
    "\n",
    "Llamamos $c_1 = s_1 + t_1$ y $c_2 = s_2 + t_2$. \n",
    "\n",
    "Entonces:\n",
    "\n",
    "$$u + v = c_1 x_1 + c_2 x_2$$\n",
    "\n",
    "$$c_1 x_1 \\in Col(X) \\land c_2 x_2 \\in Col(X) \\implies  c_1 x_1 + c_2 x_2 \\in Col(X) \\implies u + v \\in Col(X)$$\n",
    "\n",
    "3. El producto de un escalar por un vector perteneciente a $Col(X)$ también pertenece a $Col(X)$.\n",
    "\n",
    "Sea $u$ un vector en $Col(X)$, $s_1$, $s_2$ escalares tales que:\n",
    "\n",
    "$$u = s_1 x_1 + s_2 x_2 \\iff u \\in Col(X)$$\n",
    "\n",
    "Llamemos $c$ al escalar.\n",
    "\n",
    "Entonces:\n",
    "\n",
    "$$cu = c * (s_1 x_1 + s_2 x_2)$$\n",
    "$$cu = (c * s_1) x_1 + (c * s_2) x_2$$\n",
    "\n",
    "Llamemos $c_1 = c * s_1$ y $c_2 = c * s_2$\n",
    "\n",
    "Entonces:\n",
    "\n",
    "$$cu = c_1 x_1 + c_2 x_2$$\n",
    "\n",
    "$$c_1 x_1 \\in Col(X) \\land c_2 x_2 \\in Col(X) \\implies  c_1 x_1 + c_2 x_2 \\in Col(X) \\implies cu \\in Col(X)$$\n",
    "\n",
    "Por lo tanto $Col(X)$ es un subespacio vectorial de $\\rm I\\!R^n$.\n"
   ]
  },
  {
   "cell_type": "markdown",
   "metadata": {
    "id": "Jdk4NGv-Ltnw"
   },
   "source": [
    "b) Supongamos que cuando hablamos de vectores en $\\rm I\\!R^{n}$ nos referimos a vectores columna de $\\rm I\\!R^{n \\times 1}$. Mostrar en ese caso que el producto escalar entre dos vectores $u$, $v$ en $\\rm I\\!R^{n}$ puede calcularse como:\n",
    "$$u \\cdot v = v^{\\intercal} u$$\n",
    "donde operación en el lado derecho de la igualdad es el producto de matrices usual."
   ]
  },
  {
   "attachments": {},
   "cell_type": "markdown",
   "metadata": {},
   "source": [
    "Sean $u$, $v$ vectores columna en $\\rm I\\!R^{n}$.\n",
    "\n",
    "$$u = \\begin{bmatrix}{\n",
    "u_1} \\\\ {u_2} \\\\ \\vdots \\\\ {u_n}\n",
    "\\end{bmatrix}, v = \\begin{bmatrix}{\n",
    "v_1} \\\\ {v_2} \\\\ \\vdots \\\\ {v_n}\n",
    "\\end{bmatrix}$$\n",
    "\n",
    "$$v^{\\intercal} = \\begin{bmatrix}{\n",
    "v_1} & {v_2} & \\dots & {v_n}\n",
    "\\end{bmatrix}$$\n",
    "\n",
    "Entonces:\n",
    "\n",
    "$$u \\cdot v = \\begin{bmatrix}{\n",
    "u_1} \\\\ {u_2} \\\\ \\vdots \\\\ {u_n}\n",
    "\\end{bmatrix} * \\begin{bmatrix}{\n",
    "v_1} \\\\ {v_2} \\\\ \\vdots \\\\ {v_n}\n",
    "\\end{bmatrix} = \\sum_{i=1}^{n} u_i v_i$$\n",
    "\n",
    "$$v^{\\intercal} u = \\begin{bmatrix}{\n",
    "v_1} & {v_2} & \\dots & {v_n}\n",
    "\\end{bmatrix} \\begin{bmatrix}{\n",
    "u_1} \\\\ {u_2} \\\\ \\vdots \\\\ {u_n}\n",
    "\\end{bmatrix} = \\sum_{i=1}^{n} v_i u_i$$\n",
    "\n",
    "\n",
    "Ademas, como el producto vectorial es conmutativo:\n",
    "\n",
    "$$\n",
    "\\begin{aligned}\n",
    "u \\cdot v = v \\cdot u \n",
    "&\\implies \\sum_{i=1}^{n} u_i v_i = \\sum_{i=1}^{n} v_i u_i\\\\\n",
    "&\\implies u \\cdot v = v^{\\intercal} u\n",
    "\\end{aligned}$$"
   ]
  },
  {
   "cell_type": "markdown",
   "metadata": {},
   "source": [
    "c) Aplicando el teorema tomando como subespacio $S$ el subespacio del ítem (a), el punto $y$ de $\\rm I\\!R^{n}$ como el vector de la variable dependiente, y el vector $b$ como $b = X \\beta^{∗}$, convertir esta ecuación de optimalidad\n",
    "$$|| {y−X\\beta^{∗}} ||= \\min_{\\beta \\text{ en } \\rm I\\!R^{p}} ||y − X\\beta||$$\n",
    "en la condición de ortogonalidad que corresponde a la equivalencia 2 del teorema."
   ]
  },
  {
   "cell_type": "markdown",
   "metadata": {},
   "source": [
    "$$\\forall \\beta \\in \\rm I\\!R^{p}, (y - X \\beta^{\\ast}) \\cdot X \\beta = 0$$\n"
   ]
  },
  {
   "cell_type": "markdown",
   "metadata": {},
   "source": [
    "Llamemos $t = X \\beta^{\\ast}$ y $s = X \\beta$ donde $s$ son todos los valores en el subespacio $S = X\\beta$ con $\\beta$ variando en $\\rm I\\!R^{p}$, y $t$ es el vector $X \\beta^{\\ast}$ que es el vector que minimiza la distancia entre $y$ y $X \\beta$. $t$ es la _proyección ortogonal_ de y sobre el subespacio $S$.\n",
    "\n",
    "Entonces por el Teroema. Sea $y$ un vector cualquiera de $\\rm I\\!R^{n}$ y $S$ un subespacio de $\\rm I\\!R^{n}$. El vector de $S$ que minimiza la distancia del subespacio $S$ al vector $y$ es aquel $b$ de $S$ tal que $y - b$ es ortogonal a todo vector $s$ de $S$. Es decir, las siguientes dos condiciones son equivalentes:\n",
    "\n",
    "$$\n",
    "\\begin{aligned}\n",
    "||y - t|| &= \\min_{s \\in S}||y - s|| \\\\\n",
    "\\implies (y - t) \\cdot s &= 0, \\forall s \\in S \\\\\n",
    "\\implies (y - X \\beta^{\\ast}) \\cdot X \\beta &= 0, \\forall \\beta \\in \\rm I\\!R^{p}\n",
    "\\end{aligned}\n",
    "$$"
   ]
  },
  {
   "cell_type": "markdown",
   "metadata": {},
   "source": [
    "d) A la ecuación obtenida en el ítem (c), aplicarle la identidad del producto escalar vista en el item (b),\n",
    "para llegar a la ecuación:\n",
    "$$X^\\intercal (y − X\\beta^{∗}) \\cdot \\beta = 0$$"
   ]
  },
  {
   "cell_type": "markdown",
   "metadata": {},
   "source": [
    "$$(y - X \\beta^{\\ast}) \\cdot X \\beta = 0$$\n",
    "\n",
    "Llamemos $u = y - X \\beta^{\\ast}$ y $v = X \\beta$ con $u \\in \\rm I\\!R^{n}$ y $v \\in \\rm I\\!R^{n}$.\n",
    "\n",
    "Entonces por la propiedad del producto escalar del item (b):\n",
    "\n",
    "$$\n",
    "\\begin{aligned}\n",
    "u \\cdot v = v^{\\intercal} u\n",
    "&\\iff (X \\beta)^\\intercal (y - X \\beta^{\\ast}) = 0 \\\\\n",
    "&\\iff  \\beta^\\intercal X^\\intercal (y - X \\beta^{\\ast}) = 0 \\\\\n",
    "\\end{aligned}$$\n",
    "\n",
    "Ahora llamamos $w^\\intercal = \\beta^\\intercal$ y $z = X^\\intercal (y - X \\beta^{\\ast})$, y por la misma propiedad del item (b):\n",
    "\n",
    "$$\n",
    "\\begin{aligned}\n",
    "w^\\intercal z = z \\cdot w \\iff\n",
    "0 &= \\beta^\\intercal (X^\\intercal (y - X \\beta^{\\ast})) \\\\\n",
    "&= (X^\\intercal (y - X \\beta^{\\ast})) \\cdot {\\beta} \\\\\n",
    "\\end{aligned}\n",
    "$$\n",
    "\n",
    "$$\n",
    "\\iff  X^\\intercal (y - X \\beta^{\\ast}) \\cdot \\beta = 0 \\\\\n",
    "$$"
   ]
  },
  {
   "cell_type": "markdown",
   "metadata": {},
   "source": [
    "e) Se sabe que el único vector que es ortogonal a todo vector $v$ de $\\rm I\\!R^{n}$ es el vector nulo. Es decir, si u es un vector fijo tal que $u \\cdot v = 0$ para todo $v$ en $\\rm I\\!R^{n}$, entonces $u = 0$. Usando esto y la ecuación obtenida en\n",
    "el ítem (d), llegar a la fórmula:\n",
    "$$X^\\intercal X \\beta^{∗} =X^\\intercal y $$"
   ]
  },
  {
   "cell_type": "markdown",
   "metadata": {},
   "source": [
    "Partimos de la igualdad obtenida en el ítem (d):\n",
    "\n",
    "$$\n",
    "\\begin{aligned}\n",
    "0 &= X^\\intercal (y - X \\beta^{\\ast}) \\cdot \\beta \\\\\n",
    "&= (X^\\intercal y - X^\\intercal X \\beta^{\\ast}) \\cdot \\beta\n",
    "\\end{aligned}\n",
    "$$\n",
    "\n",
    "Fijamos $(X^\\intercal y - X^\\intercal X \\beta^{\\ast}) = 0$ ya que es el único vector que es ortogonal a todo vector $\\beta$ de $\\rm I\\!R^{p}$.\n",
    "\n",
    "$$\n",
    "\\begin{aligned}\n",
    "(X^\\intercal y - X^\\intercal X \\beta^{\\ast}) &= 0 \\\\\n",
    "\\iff X^\\intercal X \\beta^{\\ast} &= X^\\intercal y\n",
    "\\end{aligned}\n",
    "$$"
   ]
  },
  {
   "cell_type": "markdown",
   "metadata": {},
   "source": [
    "f) Finalmente, suponiendo que las columnas de X son linealmente independientes, se tiene que la matriz $X^{\\intercal} X$ es invertible. Despejar $\\beta^{∗}$ de la ecuación del ítem (e) para llegar a la fórmula de la solución óptima al problema de regresión."
   ]
  },
  {
   "cell_type": "markdown",
   "metadata": {},
   "source": [
    "$$\n",
    "\\begin{aligned}\n",
    "X^\\intercal X \\beta^{\\ast} &= X^\\intercal \\\\\n",
    "(X^{\\intercal} X)^{-1} X^{\\intercal} X \\beta^{\\ast} &= (X^{\\intercal} X)^{-1} X^{\\intercal} \\\\\n",
    "\\beta^{\\ast} &= (X^{\\intercal} X)^{-1} X^{\\intercal} y \\\\\n",
    "\\end{aligned}\n",
    "$$"
   ]
  },
  {
   "cell_type": "markdown",
   "metadata": {},
   "source": [
    "## Segunda parte.\n",
    "En esta sección la idea es realizar regresión lineal en $\\rm I\\!R^{2}$ y analizar como se comportan las soluciones obtenidas.\n"
   ]
  },
  {
   "cell_type": "markdown",
   "metadata": {},
   "source": [
    "### 1. Usando los datos del archivo ejercicio_1.csv:"
   ]
  },
  {
   "cell_type": "markdown",
   "metadata": {},
   "source": [
    "a) Graficar todos los puntos en el plano $xy$.\n",
    "Nota: La primer columna del archivo marca el valor de $x$ y la segunda el valor de $y$ de cada punto. Recomendamos usar la biblioteca pandas para leer los archivos con la función read_csv."
   ]
  },
  {
   "cell_type": "code",
   "execution_count": 1,
   "metadata": {},
   "outputs": [],
   "source": [
    "import pandas as pd\n",
    "import matplotlib.pyplot as plt\n",
    "import numpy as np\n",
    "from typing import Callable, List, Tuple\n",
    "from IPython.display import display, HTML"
   ]
  },
  {
   "cell_type": "code",
   "execution_count": 2,
   "metadata": {},
   "outputs": [],
   "source": [
    "data_ej1: pd.DataFrame = pd.read_csv('data/ejercicio_1.csv', sep=',')\n",
    "x_key: pd.Index = data_ej1.keys()[0]\n",
    "y_key: pd.Index = data_ej1.keys()[1]\n",
    "\n",
    "x_values: pd.DataFrame = data_ej1[x_key]\n",
    "y_values: pd.DataFrame = data_ej1[y_key]"
   ]
  },
  {
   "cell_type": "code",
   "execution_count": 3,
   "metadata": {},
   "outputs": [
    {
     "data": {
      "text/html": [
       "<div>\n",
       "<style scoped>\n",
       "    .dataframe tbody tr th:only-of-type {\n",
       "        vertical-align: middle;\n",
       "    }\n",
       "\n",
       "    .dataframe tbody tr th {\n",
       "        vertical-align: top;\n",
       "    }\n",
       "\n",
       "    .dataframe thead th {\n",
       "        text-align: right;\n",
       "    }\n",
       "</style>\n",
       "<table border=\"1\" class=\"dataframe\">\n",
       "  <thead>\n",
       "    <tr style=\"text-align: right;\">\n",
       "      <th></th>\n",
       "      <th>X</th>\n",
       "      <th>Y</th>\n",
       "    </tr>\n",
       "  </thead>\n",
       "  <tbody>\n",
       "    <tr>\n",
       "      <th>0</th>\n",
       "      <td>-4.406280</td>\n",
       "      <td>-1.383344</td>\n",
       "    </tr>\n",
       "    <tr>\n",
       "      <th>1</th>\n",
       "      <td>-2.722675</td>\n",
       "      <td>3.918974</td>\n",
       "    </tr>\n",
       "    <tr>\n",
       "      <th>2</th>\n",
       "      <td>4.610505</td>\n",
       "      <td>3.513816</td>\n",
       "    </tr>\n",
       "    <tr>\n",
       "      <th>3</th>\n",
       "      <td>3.510524</td>\n",
       "      <td>1.139324</td>\n",
       "    </tr>\n",
       "    <tr>\n",
       "      <th>4</th>\n",
       "      <td>8.767744</td>\n",
       "      <td>4.575692</td>\n",
       "    </tr>\n",
       "    <tr>\n",
       "      <th>...</th>\n",
       "      <td>...</td>\n",
       "      <td>...</td>\n",
       "    </tr>\n",
       "    <tr>\n",
       "      <th>95</th>\n",
       "      <td>-3.938697</td>\n",
       "      <td>-3.316558</td>\n",
       "    </tr>\n",
       "    <tr>\n",
       "      <th>96</th>\n",
       "      <td>18.097452</td>\n",
       "      <td>14.914027</td>\n",
       "    </tr>\n",
       "    <tr>\n",
       "      <th>97</th>\n",
       "      <td>7.836851</td>\n",
       "      <td>6.051094</td>\n",
       "    </tr>\n",
       "    <tr>\n",
       "      <th>98</th>\n",
       "      <td>-7.145026</td>\n",
       "      <td>-7.592345</td>\n",
       "    </tr>\n",
       "    <tr>\n",
       "      <th>99</th>\n",
       "      <td>-9.524871</td>\n",
       "      <td>-7.480263</td>\n",
       "    </tr>\n",
       "  </tbody>\n",
       "</table>\n",
       "<p>100 rows × 2 columns</p>\n",
       "</div>"
      ],
      "text/plain": [
       "            X          Y\n",
       "0   -4.406280  -1.383344\n",
       "1   -2.722675   3.918974\n",
       "2    4.610505   3.513816\n",
       "3    3.510524   1.139324\n",
       "4    8.767744   4.575692\n",
       "..        ...        ...\n",
       "95  -3.938697  -3.316558\n",
       "96  18.097452  14.914027\n",
       "97   7.836851   6.051094\n",
       "98  -7.145026  -7.592345\n",
       "99  -9.524871  -7.480263\n",
       "\n",
       "[100 rows x 2 columns]"
      ]
     },
     "metadata": {},
     "output_type": "display_data"
    }
   ],
   "source": [
    "display(data_ej1)"
   ]
  },
  {
   "cell_type": "code",
   "execution_count": 4,
   "metadata": {},
   "outputs": [
    {
     "data": {
      "text/plain": [
       "[<matplotlib.lines.Line2D at 0x7fedd21a38e0>]"
      ]
     },
     "execution_count": 4,
     "metadata": {},
     "output_type": "execute_result"
    },
    {
     "data": {
      "image/png": "[encoded data removed]",
      "text/plain": [
       "<Figure size 1000x500 with 1 Axes>"
      ]
     },
     "metadata": {},
     "output_type": "display_data"
    }
   ],
   "source": [
    "plt.figure(figsize=(10, 5))\n",
    "plt.plot(x_values, y_values, 'o')"
   ]
  },
  {
   "cell_type": "markdown",
   "metadata": {},
   "source": [
    "b) Utilizando los conceptos teóricos desarrollados en la primera parte, hallar la recta que mejor aproxima a los datos."
   ]
  },
  {
   "cell_type": "markdown",
   "metadata": {},
   "source": [
    "$$\n",
    "|| {y−X\\beta^{∗}} ||= \\min_{\\beta \\text{ en } \\rm I\\!R^{p}} ||y − X\\beta|| \\\\\n",
    "\\beta^{\\ast} = (X^{\\intercal} X)^{-1} X^{\\intercal} y$$"
   ]
  },
  {
   "cell_type": "code",
   "execution_count": 5,
   "metadata": {},
   "outputs": [
    {
     "data": {
      "text/plain": [
       "((100, 1), (100, 1))"
      ]
     },
     "execution_count": 5,
     "metadata": {},
     "output_type": "execute_result"
    }
   ],
   "source": [
    "X: np.ndarray = np.array(x_values).reshape(-1, 1)\n",
    "y: np.ndarray = np.array(y_values).reshape(-1, 1)\n",
    "X.shape, y.shape"
   ]
  },
  {
   "cell_type": "code",
   "execution_count": 6,
   "metadata": {},
   "outputs": [],
   "source": [
    "def linear_regression(X: np.ndarray, y: np.ndarray) -> np.ndarray:\n",
    "    \"\"\"\n",
    "    Args:\n",
    "        X (np.ndarray): X values\n",
    "        y (np.ndarray): y values\n",
    "\n",
    "    Returns:\n",
    "        np.ndarray: B values for the linear regression, B = (X^T X)^-1 X^T y, without 1s in the first column\n",
    "    \"\"\"\n",
    "    X_t = X.T\n",
    "    X_t_X = np.dot(X_t, X)\n",
    "    X_t_X_inv = np.linalg.inv(X_t_X)\n",
    "    X_t_X_inv_X_t = np.dot(X_t_X_inv, X_t)\n",
    "    B = np.dot(X_t_X_inv_X_t, y)\n",
    "    return B"
   ]
  },
  {
   "cell_type": "code",
   "execution_count": 7,
   "metadata": {},
   "outputs": [
    {
     "data": {
      "text/plain": [
       "array([[0.75785414]])"
      ]
     },
     "execution_count": 7,
     "metadata": {},
     "output_type": "execute_result"
    }
   ],
   "source": [
    "b = linear_regression(X, y)\n",
    "b"
   ]
  },
  {
   "cell_type": "markdown",
   "metadata": {},
   "source": [
    "$$\n",
    "\\begin{aligned}\n",
    "y &= X \\beta^{\\ast} \\\\\n",
    "y &= \\hat{\\beta}_0 \\times x\\\\\n",
    "y &= 0.75785414 \\times x\n",
    "\\end{aligned}\n",
    "$$"
   ]
  },
  {
   "cell_type": "code",
   "execution_count": 8,
   "metadata": {},
   "outputs": [
    {
     "data": {
      "image/png": "[encoded data removed]",
      "text/plain": [
       "<Figure size 1000x500 with 1 Axes>"
      ]
     },
     "metadata": {},
     "output_type": "display_data"
    }
   ],
   "source": [
    "def plot_regression_line(X: np.ndarray, y: np.ndarray, reg_func: Callable[[np.ndarray, np.ndarray], np.ndarray] = linear_regression):\n",
    "    \"\"\"\n",
    "    Args:\n",
    "        X (_type_): _description_\n",
    "        y (_type_): _description_\n",
    "        reg_func (_type_, optional): _description_. Defaults to linear_regression.\n",
    "    \"\"\"\n",
    "\n",
    "    b = reg_func(X, y).flatten()\n",
    "\n",
    "    plt.figure(figsize=(10, 5))\n",
    "\n",
    "    plt.plot(X, y, 'o')\n",
    "    \n",
    "    min_x = np.min(X) - 5\n",
    "    max_x = np.max(X) + 5\n",
    "\n",
    "    line_x = np.linspace(min_x, max_x, 1000)\n",
    "\n",
    "    if len(b) == 1:\n",
    "        line_y = b[0] * line_x\n",
    "    else:\n",
    "        line_y = b[0] + b[1] * line_x\n",
    "    \n",
    "    plt.plot(line_x, line_y, 'r')\n",
    "    \n",
    "    plt.show()\n",
    "\n",
    "plot_regression_line(X, y)"
   ]
  },
  {
   "cell_type": "markdown",
   "metadata": {},
   "source": [
    "c) Realizar nuevamente los incisos (a) y (b) pero considerando los puntos \n",
    "$${(x_i, y_i + 12) \\text{ con } i = 1 \\dots n}$$\n",
    "\n",
    "donde $(x_i , y_i)$ eran los puntos originales. ¿Es buena la aproximación realizada?, ¿cuál es el problema?"
   ]
  },
  {
   "cell_type": "code",
   "execution_count": 9,
   "metadata": {},
   "outputs": [
    {
     "data": {
      "text/html": [
       "<div>\n",
       "<style scoped>\n",
       "    .dataframe tbody tr th:only-of-type {\n",
       "        vertical-align: middle;\n",
       "    }\n",
       "\n",
       "    .dataframe tbody tr th {\n",
       "        vertical-align: top;\n",
       "    }\n",
       "\n",
       "    .dataframe thead th {\n",
       "        text-align: right;\n",
       "    }\n",
       "</style>\n",
       "<table border=\"1\" class=\"dataframe\">\n",
       "  <thead>\n",
       "    <tr style=\"text-align: right;\">\n",
       "      <th></th>\n",
       "      <th>X</th>\n",
       "      <th>Y</th>\n",
       "      <th>Y + 12</th>\n",
       "    </tr>\n",
       "  </thead>\n",
       "  <tbody>\n",
       "    <tr>\n",
       "      <th>0</th>\n",
       "      <td>-4.406280</td>\n",
       "      <td>-1.383344</td>\n",
       "      <td>10.616656</td>\n",
       "    </tr>\n",
       "    <tr>\n",
       "      <th>1</th>\n",
       "      <td>-2.722675</td>\n",
       "      <td>3.918974</td>\n",
       "      <td>15.918974</td>\n",
       "    </tr>\n",
       "    <tr>\n",
       "      <th>2</th>\n",
       "      <td>4.610505</td>\n",
       "      <td>3.513816</td>\n",
       "      <td>15.513816</td>\n",
       "    </tr>\n",
       "    <tr>\n",
       "      <th>3</th>\n",
       "      <td>3.510524</td>\n",
       "      <td>1.139324</td>\n",
       "      <td>13.139324</td>\n",
       "    </tr>\n",
       "    <tr>\n",
       "      <th>4</th>\n",
       "      <td>8.767744</td>\n",
       "      <td>4.575692</td>\n",
       "      <td>16.575692</td>\n",
       "    </tr>\n",
       "    <tr>\n",
       "      <th>...</th>\n",
       "      <td>...</td>\n",
       "      <td>...</td>\n",
       "      <td>...</td>\n",
       "    </tr>\n",
       "    <tr>\n",
       "      <th>95</th>\n",
       "      <td>-3.938697</td>\n",
       "      <td>-3.316558</td>\n",
       "      <td>8.683442</td>\n",
       "    </tr>\n",
       "    <tr>\n",
       "      <th>96</th>\n",
       "      <td>18.097452</td>\n",
       "      <td>14.914027</td>\n",
       "      <td>26.914027</td>\n",
       "    </tr>\n",
       "    <tr>\n",
       "      <th>97</th>\n",
       "      <td>7.836851</td>\n",
       "      <td>6.051094</td>\n",
       "      <td>18.051094</td>\n",
       "    </tr>\n",
       "    <tr>\n",
       "      <th>98</th>\n",
       "      <td>-7.145026</td>\n",
       "      <td>-7.592345</td>\n",
       "      <td>4.407655</td>\n",
       "    </tr>\n",
       "    <tr>\n",
       "      <th>99</th>\n",
       "      <td>-9.524871</td>\n",
       "      <td>-7.480263</td>\n",
       "      <td>4.519737</td>\n",
       "    </tr>\n",
       "  </tbody>\n",
       "</table>\n",
       "<p>100 rows × 3 columns</p>\n",
       "</div>"
      ],
      "text/plain": [
       "            X          Y     Y + 12\n",
       "0   -4.406280  -1.383344  10.616656\n",
       "1   -2.722675   3.918974  15.918974\n",
       "2    4.610505   3.513816  15.513816\n",
       "3    3.510524   1.139324  13.139324\n",
       "4    8.767744   4.575692  16.575692\n",
       "..        ...        ...        ...\n",
       "95  -3.938697  -3.316558   8.683442\n",
       "96  18.097452  14.914027  26.914027\n",
       "97   7.836851   6.051094  18.051094\n",
       "98  -7.145026  -7.592345   4.407655\n",
       "99  -9.524871  -7.480263   4.519737\n",
       "\n",
       "[100 rows x 3 columns]"
      ]
     },
     "metadata": {},
     "output_type": "display_data"
    }
   ],
   "source": [
    "data_12 = data_ej1.copy()\n",
    "data_12[\"Y + 12\"] = data_12[y_key] + 12\n",
    "display(data_12)"
   ]
  },
  {
   "cell_type": "code",
   "execution_count": 10,
   "metadata": {},
   "outputs": [
    {
     "data": {
      "text/plain": [
       "array([[0.96332903]])"
      ]
     },
     "execution_count": 10,
     "metadata": {},
     "output_type": "execute_result"
    }
   ],
   "source": [
    "linear_regression(X, y + 12)"
   ]
  },
  {
   "cell_type": "code",
   "execution_count": 11,
   "metadata": {},
   "outputs": [
    {
     "data": {
      "image/png": "[encoded data removed]",
      "text/plain": [
       "<Figure size 1000x500 with 1 Axes>"
      ]
     },
     "metadata": {},
     "output_type": "display_data"
    }
   ],
   "source": [
    "plot_regression_line(X, y + 12)"
   ]
  },
  {
   "cell_type": "markdown",
   "metadata": {},
   "source": [
    "La recta aproximada no es buena ya que los puntos están alejados de la recta aproximada por 12 unidades. Esto es porque la regresión lineal no tiene en cuenta la ordenada al origen, solo la pendiente."
   ]
  },
  {
   "cell_type": "markdown",
   "metadata": {},
   "source": [
    "d) ¿Cómo se podría extender el modelo para poder aproximar cualquier recta en el plano?"
   ]
  },
  {
   "cell_type": "markdown",
   "metadata": {},
   "source": [
    "Para resolverlo, se puede agregar una columna de 1's a la matriz $X$ y agregar un coeficiente $\\beta_0$ a la ecuación de la recta. De esta forma, se puede aproximar cualquier recta en el plano."
   ]
  },
  {
   "cell_type": "code",
   "execution_count": 12,
   "metadata": {},
   "outputs": [],
   "source": [
    "def ones_column(X: np.ndarray) -> np.ndarray:\n",
    "    \"\"\"\n",
    "    Args:\n",
    "        X (np.ndarray): X values\n",
    "\n",
    "    Returns:\n",
    "        np.ndarray: X with 1s in the first column\n",
    "    \"\"\"\n",
    "    ones = np.ones((X.shape[0], 1))\n",
    "    new_X = np.concatenate((ones, X), axis=1)\n",
    "    return new_X\n",
    "\n",
    "def linear_regression_ones(X: np.ndarray, y: np.ndarray) -> np.ndarray:\n",
    "    \"\"\"\n",
    "    Args:\n",
    "        X (np.ndarray): X values\n",
    "        y (np.ndarray): y values\n",
    "\n",
    "    Returns:\n",
    "        np.ndarray: B values for the linear regression, B = (X^T X)^-1 X^T y, with 1s in the first column\n",
    "    \"\"\"\n",
    "\n",
    "    X = ones_column(X)\n",
    "    X_t = X.T\n",
    "    X_t_X = np.dot(X_t, X)\n",
    "    X_t_X_inv = np.linalg.inv(X_t_X)\n",
    "    X_t_X_inv_X_t = np.dot(X_t_X_inv, X_t)\n",
    "    B = np.dot(X_t_X_inv_X_t, y)\n",
    "    return B"
   ]
  },
  {
   "cell_type": "code",
   "execution_count": 13,
   "metadata": {},
   "outputs": [
    {
     "data": {
      "text/plain": [
       "array([[0.28565184],\n",
       "       [0.75296295]])"
      ]
     },
     "execution_count": 13,
     "metadata": {},
     "output_type": "execute_result"
    }
   ],
   "source": [
    "linear_regression_ones(X, y)"
   ]
  },
  {
   "cell_type": "markdown",
   "metadata": {},
   "source": [
    "$$\n",
    "\\begin{aligned}\n",
    "y &= \\hat{\\beta}_0 + \\hat{\\beta}_1 x\\\\\n",
    "y &= 0.28565184 + 0.75296295 \\times x\n",
    "\\end{aligned}\n",
    "$$"
   ]
  },
  {
   "cell_type": "code",
   "execution_count": 14,
   "metadata": {},
   "outputs": [
    {
     "data": {
      "image/png": "[encoded data removed]",
      "text/plain": [
       "<Figure size 1000x500 with 1 Axes>"
      ]
     },
     "metadata": {},
     "output_type": "display_data"
    }
   ],
   "source": [
    "plot_regression_line(X, y, linear_regression_ones)"
   ]
  },
  {
   "cell_type": "markdown",
   "metadata": {},
   "source": [
    "### 2. Usando los datos del archivo ejercicio_2.csv:"
   ]
  },
  {
   "cell_type": "markdown",
   "metadata": {},
   "source": [
    "a) Graficar y aproximar los puntos con una recta."
   ]
  },
  {
   "cell_type": "code",
   "execution_count": 15,
   "metadata": {},
   "outputs": [
    {
     "data": {
      "text/html": [
       "<div>\n",
       "<style scoped>\n",
       "    .dataframe tbody tr th:only-of-type {\n",
       "        vertical-align: middle;\n",
       "    }\n",
       "\n",
       "    .dataframe tbody tr th {\n",
       "        vertical-align: top;\n",
       "    }\n",
       "\n",
       "    .dataframe thead th {\n",
       "        text-align: right;\n",
       "    }\n",
       "</style>\n",
       "<table border=\"1\" class=\"dataframe\">\n",
       "  <thead>\n",
       "    <tr style=\"text-align: right;\">\n",
       "      <th></th>\n",
       "      <th>X</th>\n",
       "      <th>Y</th>\n",
       "    </tr>\n",
       "  </thead>\n",
       "  <tbody>\n",
       "    <tr>\n",
       "      <th>0</th>\n",
       "      <td>15.440218</td>\n",
       "      <td>-5.852276</td>\n",
       "    </tr>\n",
       "    <tr>\n",
       "      <th>1</th>\n",
       "      <td>14.256445</td>\n",
       "      <td>-4.605640</td>\n",
       "    </tr>\n",
       "    <tr>\n",
       "      <th>2</th>\n",
       "      <td>20.664278</td>\n",
       "      <td>-7.242094</td>\n",
       "    </tr>\n",
       "    <tr>\n",
       "      <th>3</th>\n",
       "      <td>17.864908</td>\n",
       "      <td>-5.551524</td>\n",
       "    </tr>\n",
       "    <tr>\n",
       "      <th>4</th>\n",
       "      <td>9.858580</td>\n",
       "      <td>-2.320108</td>\n",
       "    </tr>\n",
       "    <tr>\n",
       "      <th>...</th>\n",
       "      <td>...</td>\n",
       "      <td>...</td>\n",
       "    </tr>\n",
       "    <tr>\n",
       "      <th>70</th>\n",
       "      <td>16.034861</td>\n",
       "      <td>-6.017502</td>\n",
       "    </tr>\n",
       "    <tr>\n",
       "      <th>71</th>\n",
       "      <td>11.510946</td>\n",
       "      <td>-0.118044</td>\n",
       "    </tr>\n",
       "    <tr>\n",
       "      <th>72</th>\n",
       "      <td>7.839347</td>\n",
       "      <td>1.565136</td>\n",
       "    </tr>\n",
       "    <tr>\n",
       "      <th>73</th>\n",
       "      <td>6.522023</td>\n",
       "      <td>1.684089</td>\n",
       "    </tr>\n",
       "    <tr>\n",
       "      <th>74</th>\n",
       "      <td>15.850538</td>\n",
       "      <td>-5.161490</td>\n",
       "    </tr>\n",
       "  </tbody>\n",
       "</table>\n",
       "<p>75 rows × 2 columns</p>\n",
       "</div>"
      ],
      "text/plain": [
       "            X         Y\n",
       "0   15.440218 -5.852276\n",
       "1   14.256445 -4.605640\n",
       "2   20.664278 -7.242094\n",
       "3   17.864908 -5.551524\n",
       "4    9.858580 -2.320108\n",
       "..        ...       ...\n",
       "70  16.034861 -6.017502\n",
       "71  11.510946 -0.118044\n",
       "72   7.839347  1.565136\n",
       "73   6.522023  1.684089\n",
       "74  15.850538 -5.161490\n",
       "\n",
       "[75 rows x 2 columns]"
      ]
     },
     "metadata": {},
     "output_type": "display_data"
    }
   ],
   "source": [
    "data_ej2: pd.DataFrame = pd.read_csv('data/ejercicio_2.csv', sep=',')\n",
    "\n",
    "x_2_key: pd.Index = data_ej2.keys()[0]\n",
    "y_2_key: pd.Index = data_ej2.keys()[1]\n",
    "\n",
    "x_2_values: pd.DataFrame = data_ej2[x_2_key]\n",
    "y_2_values: pd.DataFrame = data_ej2[y_2_key]\n",
    "\n",
    "X2: np.ndarray = np.array(x_2_values).reshape(-1, 1)\n",
    "y2: np.ndarray = np.array(y_2_values).reshape(-1, 1)\n",
    "\n",
    "display(data_ej2)"
   ]
  },
  {
   "cell_type": "code",
   "execution_count": 16,
   "metadata": {},
   "outputs": [
    {
     "data": {
      "image/png": "[encoded data removed]",
      "text/plain": [
       "<Figure size 1000x500 with 1 Axes>"
      ]
     },
     "metadata": {},
     "output_type": "display_data"
    }
   ],
   "source": [
    "plot_regression_line(X2, y2, linear_regression_ones)"
   ]
  },
  {
   "cell_type": "markdown",
   "metadata": {},
   "source": [
    "b) Imaginemos que los datos forman parte de mediciones de algún tipo, como por ejemplo la temperatura de un procesador a lo largo del tiempo), y queremos predecir cuál va a ser la temperatura en el futuro. ¿Es buena la aproximación que realizamos?, ¿cuál fue el problema en este caso?"
   ]
  },
  {
   "attachments": {},
   "cell_type": "markdown",
   "metadata": {},
   "source": [
    "La aproximación realizada puede ser buena para los datos que se tienen, pero no es buena para predecir la temperatura en el futuro ya que los datos pueden no seguir una recta. Por ejemplo, la escala de temperatura no esta definida para menos de 0 grados Kelvin (−273,15 ºC), por lo que predecir una temperatura en el futuro que sea menor a 0 grados Kelvin no tiene sentido. La temperatura del procesador puede aumentar o disminuir, por lo que no es posible predecir una temperatura en el futuro que sea menor a la temperatura actual."
   ]
  },
  {
   "cell_type": "markdown",
   "metadata": {},
   "source": [
    "## Tercera parte. Regresión lineal en datos reales."
   ]
  },
  {
   "cell_type": "markdown",
   "metadata": {},
   "source": [
    "En esta sección utilizaremos el conjunto de datos provisto en [Machine Learning Repository](https://archive.ics.uci.edu/ml/datasets/Real+estate+valuation+data+set). Este consiste en datos de ventas de 414 casas en Taiwan. La información provista por casa es (en orden):"
   ]
  },
  {
   "cell_type": "markdown",
   "metadata": {},
   "source": [
    "\n",
    "i) La fecha en que se realizó la transacción. Expresada en formato \n",
    "\n",
    "$$\\text{año} + \\frac{\\text{numero\\_mes}}{12}$$\n",
    "\n",
    "ii) La edad de la casa en años.\n",
    "\n",
    "iii) La distancia a la estación de tren o subte más cercana en metros.\n",
    "\n",
    "iv) La cantidad de almacenes alcanzables a pie.\n",
    "\n",
    "v) La latitud en grados.\n",
    "\n",
    "vi) La longitud en grados.\n",
    "\n",
    "vii) El precio por Ping. La cual es una unidad utilizada en Taiwan que representa 3,3 metros cuadrados."
   ]
  },
  {
   "cell_type": "markdown",
   "metadata": {},
   "source": [
    "Vamos a dividir este conjunto de datos en dos:\n",
    "\n",
    "i) Datos de entrenamiento: usamos los datos desde la observación 1 a la 315 inclusive.\n",
    "\n",
    "ii) Datos de test: usamos los datos desde la observación 316 a la 414 inclusive."
   ]
  },
  {
   "cell_type": "code",
   "execution_count": 17,
   "metadata": {},
   "outputs": [
    {
     "data": {
      "text/html": [
       "<div>\n",
       "<style scoped>\n",
       "    .dataframe tbody tr th:only-of-type {\n",
       "        vertical-align: middle;\n",
       "    }\n",
       "\n",
       "    .dataframe tbody tr th {\n",
       "        vertical-align: top;\n",
       "    }\n",
       "\n",
       "    .dataframe thead th {\n",
       "        text-align: right;\n",
       "    }\n",
       "</style>\n",
       "<table border=\"1\" class=\"dataframe\">\n",
       "  <thead>\n",
       "    <tr style=\"text-align: right;\">\n",
       "      <th></th>\n",
       "      <th>X1 transaction date</th>\n",
       "      <th>X2 house age</th>\n",
       "      <th>X3 distance to the nearest MRT station</th>\n",
       "      <th>X4 number of convenience stores</th>\n",
       "      <th>X5 latitude</th>\n",
       "      <th>X6 longitude</th>\n",
       "      <th>Y house price of unit area</th>\n",
       "    </tr>\n",
       "  </thead>\n",
       "  <tbody>\n",
       "    <tr>\n",
       "      <th>0</th>\n",
       "      <td>2012.917</td>\n",
       "      <td>32.0</td>\n",
       "      <td>84.87882</td>\n",
       "      <td>10</td>\n",
       "      <td>24.98298</td>\n",
       "      <td>121.54024</td>\n",
       "      <td>37.9</td>\n",
       "    </tr>\n",
       "    <tr>\n",
       "      <th>1</th>\n",
       "      <td>2012.917</td>\n",
       "      <td>19.5</td>\n",
       "      <td>306.59470</td>\n",
       "      <td>9</td>\n",
       "      <td>24.98034</td>\n",
       "      <td>121.53951</td>\n",
       "      <td>42.2</td>\n",
       "    </tr>\n",
       "    <tr>\n",
       "      <th>2</th>\n",
       "      <td>2013.583</td>\n",
       "      <td>13.3</td>\n",
       "      <td>561.98450</td>\n",
       "      <td>5</td>\n",
       "      <td>24.98746</td>\n",
       "      <td>121.54391</td>\n",
       "      <td>47.3</td>\n",
       "    </tr>\n",
       "    <tr>\n",
       "      <th>3</th>\n",
       "      <td>2013.500</td>\n",
       "      <td>13.3</td>\n",
       "      <td>561.98450</td>\n",
       "      <td>5</td>\n",
       "      <td>24.98746</td>\n",
       "      <td>121.54391</td>\n",
       "      <td>54.8</td>\n",
       "    </tr>\n",
       "    <tr>\n",
       "      <th>4</th>\n",
       "      <td>2012.833</td>\n",
       "      <td>5.0</td>\n",
       "      <td>390.56840</td>\n",
       "      <td>5</td>\n",
       "      <td>24.97937</td>\n",
       "      <td>121.54245</td>\n",
       "      <td>43.1</td>\n",
       "    </tr>\n",
       "    <tr>\n",
       "      <th>...</th>\n",
       "      <td>...</td>\n",
       "      <td>...</td>\n",
       "      <td>...</td>\n",
       "      <td>...</td>\n",
       "      <td>...</td>\n",
       "      <td>...</td>\n",
       "      <td>...</td>\n",
       "    </tr>\n",
       "    <tr>\n",
       "      <th>409</th>\n",
       "      <td>2013.000</td>\n",
       "      <td>13.7</td>\n",
       "      <td>4082.01500</td>\n",
       "      <td>0</td>\n",
       "      <td>24.94155</td>\n",
       "      <td>121.50381</td>\n",
       "      <td>15.4</td>\n",
       "    </tr>\n",
       "    <tr>\n",
       "      <th>410</th>\n",
       "      <td>2012.667</td>\n",
       "      <td>5.6</td>\n",
       "      <td>90.45606</td>\n",
       "      <td>9</td>\n",
       "      <td>24.97433</td>\n",
       "      <td>121.54310</td>\n",
       "      <td>50.0</td>\n",
       "    </tr>\n",
       "    <tr>\n",
       "      <th>411</th>\n",
       "      <td>2013.250</td>\n",
       "      <td>18.8</td>\n",
       "      <td>390.96960</td>\n",
       "      <td>7</td>\n",
       "      <td>24.97923</td>\n",
       "      <td>121.53986</td>\n",
       "      <td>40.6</td>\n",
       "    </tr>\n",
       "    <tr>\n",
       "      <th>412</th>\n",
       "      <td>2013.000</td>\n",
       "      <td>8.1</td>\n",
       "      <td>104.81010</td>\n",
       "      <td>5</td>\n",
       "      <td>24.96674</td>\n",
       "      <td>121.54067</td>\n",
       "      <td>52.5</td>\n",
       "    </tr>\n",
       "    <tr>\n",
       "      <th>413</th>\n",
       "      <td>2013.500</td>\n",
       "      <td>6.5</td>\n",
       "      <td>90.45606</td>\n",
       "      <td>9</td>\n",
       "      <td>24.97433</td>\n",
       "      <td>121.54310</td>\n",
       "      <td>63.9</td>\n",
       "    </tr>\n",
       "  </tbody>\n",
       "</table>\n",
       "<p>414 rows × 7 columns</p>\n",
       "</div>"
      ],
      "text/plain": [
       "     X1 transaction date  X2 house age   \n",
       "0               2012.917          32.0  \\\n",
       "1               2012.917          19.5   \n",
       "2               2013.583          13.3   \n",
       "3               2013.500          13.3   \n",
       "4               2012.833           5.0   \n",
       "..                   ...           ...   \n",
       "409             2013.000          13.7   \n",
       "410             2012.667           5.6   \n",
       "411             2013.250          18.8   \n",
       "412             2013.000           8.1   \n",
       "413             2013.500           6.5   \n",
       "\n",
       "     X3 distance to the nearest MRT station  X4 number of convenience stores   \n",
       "0                                  84.87882                               10  \\\n",
       "1                                 306.59470                                9   \n",
       "2                                 561.98450                                5   \n",
       "3                                 561.98450                                5   \n",
       "4                                 390.56840                                5   \n",
       "..                                      ...                              ...   \n",
       "409                              4082.01500                                0   \n",
       "410                                90.45606                                9   \n",
       "411                               390.96960                                7   \n",
       "412                               104.81010                                5   \n",
       "413                                90.45606                                9   \n",
       "\n",
       "     X5 latitude  X6 longitude  Y house price of unit area  \n",
       "0       24.98298     121.54024                        37.9  \n",
       "1       24.98034     121.53951                        42.2  \n",
       "2       24.98746     121.54391                        47.3  \n",
       "3       24.98746     121.54391                        54.8  \n",
       "4       24.97937     121.54245                        43.1  \n",
       "..           ...           ...                         ...  \n",
       "409     24.94155     121.50381                        15.4  \n",
       "410     24.97433     121.54310                        50.0  \n",
       "411     24.97923     121.53986                        40.6  \n",
       "412     24.96674     121.54067                        52.5  \n",
       "413     24.97433     121.54310                        63.9  \n",
       "\n",
       "[414 rows x 7 columns]"
      ]
     },
     "metadata": {},
     "output_type": "display_data"
    }
   ],
   "source": [
    "real_estate: pd.DataFrame = pd.read_csv('data/real_estate.csv', sep=';')\n",
    "real_estate.drop(['No'], axis=1, inplace=True)\n",
    "\n",
    "display(real_estate)"
   ]
  },
  {
   "cell_type": "code",
   "execution_count": 18,
   "metadata": {},
   "outputs": [
    {
     "data": {
      "text/plain": [
       "((414, 6), (414, 1))"
      ]
     },
     "execution_count": 18,
     "metadata": {},
     "output_type": "execute_result"
    }
   ],
   "source": [
    "X_matrix: np.ndarray = np.array(real_estate.drop(['Y house price of unit area'], axis=1))\n",
    "y_matrix: np.ndarray = np.array(real_estate['Y house price of unit area']).reshape(-1, 1)\n",
    "\n",
    "X_matrix.shape, y_matrix.shape"
   ]
  },
  {
   "cell_type": "code",
   "execution_count": 19,
   "metadata": {},
   "outputs": [
    {
     "data": {
      "text/plain": [
       "((315, 6), (315, 1), (99, 6), (99, 1))"
      ]
     },
     "execution_count": 19,
     "metadata": {},
     "output_type": "execute_result"
    }
   ],
   "source": [
    "X_train: np.ndarray = X_matrix[0:315]\n",
    "y_train: np.ndarray = y_matrix[0:315]\n",
    "\n",
    "X_test: np.ndarray = X_matrix[315:]\n",
    "y_test: np.ndarray = y_matrix[315:]\n",
    "\n",
    "X_train.shape, y_train.shape, X_test.shape, y_test.shape"
   ]
  },
  {
   "cell_type": "markdown",
   "metadata": {},
   "source": [
    "1. Teniendo en cuenta la teoría desarrollada en la primer parte del trabajo práctico y usando los datos de entrenamiento:"
   ]
  },
  {
   "cell_type": "markdown",
   "metadata": {},
   "source": [
    "a) Estimar los parámetros $\\hat\\beta$ que minimizan el error cuadrático medio para este problema."
   ]
  },
  {
   "cell_type": "code",
   "execution_count": 20,
   "metadata": {},
   "outputs": [
    {
     "data": {
      "text/plain": [
       "(array([[-1.48729480e+04],\n",
       "        [ 4.96257468e+00],\n",
       "        [-2.79853534e-01],\n",
       "        [-4.29360382e-03],\n",
       "        [ 1.11451659e+00],\n",
       "        [ 2.63780784e+02],\n",
       "        [-1.36639291e+01]]),\n",
       " (7, 1))"
      ]
     },
     "execution_count": 20,
     "metadata": {},
     "output_type": "execute_result"
    }
   ],
   "source": [
    "b_top: np.ndarray = linear_regression_ones(X_train, y_train)\n",
    "b_top, b_top.shape"
   ]
  },
  {
   "cell_type": "markdown",
   "metadata": {},
   "source": [
    "b) Encontrar $\\hat{y}$ la estimación de la variable de respuesta."
   ]
  },
  {
   "cell_type": "code",
   "execution_count": 21,
   "metadata": {},
   "outputs": [
    {
     "data": {
      "text/plain": [
       "(315, 1)"
      ]
     },
     "execution_count": 21,
     "metadata": {},
     "output_type": "execute_result"
    }
   ],
   "source": [
    "X_train_ones: np.ndarray = ones_column(X_train)\n",
    "y_pred: np.ndarray = np.dot(X_train_ones, b_top)\n",
    "y_pred.shape"
   ]
  },
  {
   "cell_type": "markdown",
   "metadata": {},
   "source": [
    "c) ¿Cuánto vale el error cuadrático medio?\n",
    "\n",
    "Definimos error cuadrático medio como\n",
    "\n",
    "$$\\text{ECM} = \\frac{1}{n} \\sum_{i=1}^{n} (y_i - \\hat{y}_i)^2$$\n",
    "\n",
    "donde $y_i$ son observaciones de una variable y $\\hat{y}_i$ estimaciones de las mismas."
   ]
  },
  {
   "cell_type": "code",
   "execution_count": 22,
   "metadata": {},
   "outputs": [
    {
     "data": {
      "text/plain": [
       "83.16551901819933"
      ]
     },
     "execution_count": 22,
     "metadata": {},
     "output_type": "execute_result"
    }
   ],
   "source": [
    "def ECM(y: np.ndarray, y_pred: np.ndarray) -> float:\n",
    "    \"\"\"\n",
    "    Args:\n",
    "        y (np.ndarray): Valores reales\n",
    "        y_pred (np.ndarray): Valores predichos\n",
    "\n",
    "    Returns:\n",
    "        float: Error Cuadrático Medio (ECM) entre \"y\" e \"y_pred\"\n",
    "    \"\"\"\n",
    "    return np.sum((y - y_pred)**2) / len(y)\n",
    "\n",
    "ECM(y_train, y_pred)"
   ]
  },
  {
   "cell_type": "markdown",
   "metadata": {},
   "source": [
    "2. Utilizando los datos de test, analizar cuál es el error cuadrático medio al utilizar los parámetros $\\hat\\beta$ estimados en el punto anterior."
   ]
  },
  {
   "cell_type": "code",
   "execution_count": 23,
   "metadata": {},
   "outputs": [
    {
     "data": {
      "text/plain": [
       "(58.664540889884876, (99, 1), (99, 7))"
      ]
     },
     "execution_count": 23,
     "metadata": {},
     "output_type": "execute_result"
    }
   ],
   "source": [
    "X_test_ones: np.ndarray = ones_column(X_test)\n",
    "y_eval: np.ndarray = np.dot(X_test_ones, b_top)\n",
    "ECM(y_test, y_eval), y_eval.shape, X_test_ones.shape"
   ]
  },
  {
   "cell_type": "markdown",
   "metadata": {},
   "source": [
    "a) ¿Es la estimación mejor que sobre los datos originales?, ¿a qué se debe la discrepancia?"
   ]
  },
  {
   "cell_type": "markdown",
   "metadata": {},
   "source": [
    "La estimación es mejor que sobre los datos originales ya que el error cuadrático medio es menor.\n",
    "Esto se debe a que los datos de entrenamiento son más cercanos a los datos de test que a los datos \"originales\"."
   ]
  },
  {
   "cell_type": "markdown",
   "metadata": {},
   "source": [
    "b) ¿Qué sucede con el ECM del segundo conjunto de casas si se realiza la regresión sobre todos los datos al mismo tiempo (es decir, las 414 casas)?"
   ]
  },
  {
   "cell_type": "code",
   "execution_count": 24,
   "metadata": {},
   "outputs": [
    {
     "data": {
      "text/plain": [
       "57.39189812738337"
      ]
     },
     "execution_count": 24,
     "metadata": {},
     "output_type": "execute_result"
    }
   ],
   "source": [
    "b_: np.ndarray = linear_regression_ones(X_matrix, y_matrix)\n",
    "\n",
    "y_pred_test: np.ndarray = np.dot(X_test_ones, b_)\n",
    "ECM(y_test, y_pred_test)"
   ]
  },
  {
   "cell_type": "markdown",
   "metadata": {},
   "source": [
    "3. Graficar el error cometido por cada casa. Es decir el valor absoluto de la diferencia entre el precio por Ping real y el estimado."
   ]
  },
  {
   "cell_type": "code",
   "execution_count": 55,
   "metadata": {},
   "outputs": [
    {
     "data": {
      "image/png": "[encoded data removed]",
      "text/plain": [
       "<Figure size 3000x1000 with 1 Axes>"
      ]
     },
     "metadata": {},
     "output_type": "display_data"
    }
   ],
   "source": [
    "X_matrix_ones: np.ndarray = ones_column(X_matrix)\n",
    "\n",
    "y_pred: np.ndarray = np.dot(X_matrix_ones, b_)\n",
    "\n",
    "plt.figure(figsize=(30, 10))\n",
    "plt.scatter(range(len(X_matrix)), abs(y_matrix - y_pred))\n",
    "plt.show()"
   ]
  },
  {
   "cell_type": "markdown",
   "metadata": {},
   "source": [
    "4. Imaginemos que se agrega una nueva columna a los datos que informa el año en que la misma fue construida. ¿Disminuiría esto el ECM?"
   ]
  },
  {
   "cell_type": "markdown",
   "metadata": {},
   "source": [
    "Como el año en el que la casa fue construida se puede obtener como combinación linea de la fecha de la transacción y la edad de la casa, se puede decir que son variables colineales. Por lo tanto, no se espera que disminuya el ECM."
   ]
  },
  {
   "cell_type": "code",
   "execution_count": 43,
   "metadata": {},
   "outputs": [],
   "source": [
    "trans_date: np.ndarray = np.array(real_estate['X1 transaction date']).reshape(-1, 1)\n",
    "age: np.ndarray = np.array(real_estate['X2 house age']).reshape(-1, 1)\n",
    "anio: np.ndarray = trans_date - age\n",
    "\n",
    "X_ext = np.concatenate((X_matrix, anio), axis=1)"
   ]
  },
  {
   "cell_type": "code",
   "execution_count": 45,
   "metadata": {},
   "outputs": [],
   "source": [
    "b_ext: np.ndarray = linear_regression_ones(X_ext, y_matrix)"
   ]
  },
  {
   "cell_type": "code",
   "execution_count": 46,
   "metadata": {},
   "outputs": [
    {
     "data": {
      "text/plain": [
       "152.8330448945791"
      ]
     },
     "execution_count": 46,
     "metadata": {},
     "output_type": "execute_result"
    }
   ],
   "source": [
    "y_pred_ext: np.ndarray = np.dot(ones_column(X_ext), b_ext)\n",
    "ECM(y_matrix, y_pred_ext)"
   ]
  },
  {
   "cell_type": "markdown",
   "metadata": {},
   "source": [
    "Podemos ver que el ECM para el conjunto total de datos original X es menor que el ECM para el conjunto de datos X' extendido que incluye la columna de año de construcción. Por lo tanto, la colinealidad de la variable año de construcción respecto al resto de las variables del modelo afecta negativamente al ECM."
   ]
  }
 ],
 "metadata": {
  "colab": {
   "provenance": []
  },
  "kernelspec": {
   "display_name": "Python 3",
   "language": "python",
   "name": "python3"
  },
  "language_info": {
   "codemirror_mode": {
    "name": "ipython",
    "version": 3
   },
   "file_extension": ".py",
   "mimetype": "text/x-python",
   "name": "python",
   "nbconvert_exporter": "python",
   "pygments_lexer": "ipython3",
   "version": "3.10.9"
  }
 },
 "nbformat": 4,
 "nbformat_minor": 1
}
