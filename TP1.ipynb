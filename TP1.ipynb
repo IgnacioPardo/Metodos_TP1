{
  "cells": [
    {
      "attachments": {},
      "cell_type": "markdown",
      "metadata": {},
      "source": [
        "## Primera parte\n",
        "\n",
        "El objetivo de esta sección es deducir una fórmula para la solución óptima $\\beta^{*}$ siguiendo los pasos a continuación:"
      ]
    },
    {
      "attachments": {},
      "cell_type": "markdown",
      "metadata": {
        "id": "RPuEHyZ3KN6P"
      },
      "source": [
        "a) Mostrar que el espacio columna de la matriz X es un subespacio vectorial de $\\rm I\\!R^n$:\n",
        "\n",
        "$$Col(X)= \\{b \\text{ en } \\rm I\\!R^n \\text{ tales que } b = X \\beta \\text{ con } \\beta \\text{ variando en } \\rm I\\!R^p \\}$$"
      ]
    },
    {
      "attachments": {},
      "cell_type": "markdown",
      "metadata": {},
      "source": [
        "Para mostrar que $Col(X)$ es un subespacio vectorial de $\\rm I\\!R^n$, debemos demostrar que $Col(X)$ cumple con las siguientes propiedades:\n",
        "\n",
        "1. El vector cero pertenece al espacio $Col(X)$.\n",
        "\n",
        "$$Col(X) = Gen\\{x_1, x_2, \\dots, x_p\\}$$\n",
        "\n",
        "El vector $0$ está en $Col(X)$ porque $0 * x_1 + 0 * x_2$ es combinación lineal de los vectores de %Col(X)%.\n",
        "\n",
        "2. La suma de dos vectores pertenecientes a $Col(X)$ también pertenece a $Col(X)$.\n",
        "\n",
        "Sean $u$, $v$ vectores en $Col(X)$, $s_1$, $s_2$ y $t_1$, $t_2$ escalares tales que:\n",
        "\n",
        "$$u = s_1 x_1 + s_2 x_2 \\iff u \\in Col(X)$$\n",
        "\n",
        "Por ser combinación lineal de los vectores de $Col(X)$.\n",
        "\n",
        "$$v = t_1 x_1 + t_2 x_2 \\iff v \\in Col(X)$$\n",
        "\n",
        "Por ser combinación lineal de los vectores de $Col(X)$.\n",
        "\n",
        "Entonces:\n",
        "\n",
        "$$u + v = s_1 x_1 + s_2 x_2 + t_1 x_1 + t_2 x_2$$\n",
        "$$u + v = (s_1 + t_1) x_1 + (s_2 + t_2) x_2$$\n",
        "\n",
        "Llamamos $c_1 = s_1 + t_1$ y $c_2 = s_2 + t_2$. \n",
        "\n",
        "Entonces:\n",
        "\n",
        "$$u + v = c_1 x_1 + c_2 x_2$$\n",
        "\n",
        "$$c_1 x_1 \\in Col(X) \\land c_2 x_2 \\in Col(X) \\implies  c_1 x_1 + c_2 x_2 \\in Col(X) \\implies u + v \\in Col(X)$$\n",
        "\n",
        "3. El producto de un escalar por un vector perteneciente a $Col(X)$ también pertenece a $Col(X)$.\n",
        "\n",
        "Sea $u$ un vector en $Col(X)$, $s_1$, $s_2$ escalares tales que:\n",
        "\n",
        "$$u = s_1 x_1 + s_2 x_2 \\iff u \\in Col(X)$$\n",
        "\n",
        "Llamemos $c$ al escalar.\n",
        "\n",
        "Entonces:\n",
        "\n",
        "$$cu = c * (s_1 x_1 + s_2 x_2)$$\n",
        "$$cu = (c * s_1) x_1 + (c * s_2) x_2$$\n",
        "\n",
        "Llamemos $c_1 = c * s_1$ y $c_2 = c * s_2$\n",
        "\n",
        "Entonces:\n",
        "\n",
        "$$cu = c_1 x_1 + c_2 x_2$$\n",
        "\n",
        "$$c_1 x_1 \\in Col(X) \\land c_2 x_2 \\in Col(X) \\implies  c_1 x_1 + c_2 x_2 \\in Col(X) \\implies cu \\in Col(X)$$\n",
        "\n",
        "Por lo tanto $Col(X)$ es un subespacio vectorial de $\\rm I\\!R^n$.\n"
      ]
    },
    {
      "attachments": {},
      "cell_type": "markdown",
      "metadata": {
        "id": "Jdk4NGv-Ltnw"
      },
      "source": [
        "b) Supongamos que cuando hablamos de vectores en $\\rm I\\!R^{n}$ nos referimos a vectores columna de $\\rm I\\!R^{n \\times 1}$. Mostrar en ese caso que el producto escalar entre dos vectores $u$, $v$ en $\\rm I\\!R^{n}$ puede calcularse como:\n",
        "$$u \\cdot v = v^{\\intercal} u$$\n",
        "donde operación en el lado derecho de la igualdad es el producto de matrices usual."
      ]
    },
    {
      "attachments": {},
      "cell_type": "markdown",
      "metadata": {},
      "source": [
        "Sean $u$, $v$ vectores en $\\rm I\\!R^{n}$.\n",
        "\n",
        "$$u = \\begin{bmatrix}{\n",
        "u_1} \\\\ {u_2} \\\\ \\vdots \\\\ {u_n}\n",
        "\\end{bmatrix}, v = \\begin{bmatrix}{\n",
        "v_1} \\\\ {v_2} \\\\ \\vdots \\\\ {v_n}\n",
        "\\end{bmatrix}$$\n",
        "\n",
        "Entonces:\n",
        "\n",
        "$$v^{\\intercal} = \\begin{bmatrix}{\n",
        "v_1} & {v_2} & \\dots & {v_n}\n",
        "\\end{bmatrix}$$\n",
        "\n",
        "$$u \\cdot v = \\begin{bmatrix}{\n",
        "u_1} & {u_2} & \\dots & {u_n}\n",
        "\\end{bmatrix} \\begin{bmatrix}{\n",
        "v_1} \\\\ {v_2} \\\\ \\vdots \\\\ {v_n}\n",
        "\\end{bmatrix} = \\sum_{i=1}^{n} u_i v_i$$\n"
      ]
    },
    {
      "attachments": {},
      "cell_type": "markdown",
      "metadata": {},
      "source": [
        "c) Aplicando el teorema tomando como subespacio $S$ el subespacio del ítem (a), el punto $y$ de $\\rm I\\!R^{n}$ como el vector de la variable dependiente, y el vector $b$ como $b = X \\beta^{∗}$, convertir esta ecuación de optimalidad\n",
        "$$|| {y−X\\beta^{∗}} ||= \\min_{\\beta \\text{ en } \\rm I\\!R^{p}} ||y − X\\beta||$$\n",
        "en la condición de ortogonalidad que corresponde a la equivalencia 2 del teorema."
      ]
    },
    {
      "attachments": {},
      "cell_type": "markdown",
      "metadata": {},
      "source": [
        "$$\\forall \\beta \\in \\rm I\\!R^{p}, (y - X \\beta^{*}) \\cdot X \\beta = 0$$\n"
      ]
    },
    {
      "attachments": {},
      "cell_type": "markdown",
      "metadata": {},
      "source": [
        "Llamemos $t = X \\beta^{*}$ y $s = X \\beta$ donde $s$ son todos los valores en el subespacio $S = X\\beta$ con $\\beta$ variando en $\\rm I\\!R^{p}$, y $t$ es el vector $X \\beta^{*}$ que es el vector que minimiza la distancia entre $y$ y $X \\beta$. $t$ es la _proyección ortogonal_ de y sobre el subespacio $S$.\n",
        "\n",
        "Entonces por el Teroema. Sea $y$ un vector cualquiera de $\\rm I\\!R^{n}$ y $S$ un subespacio de $\\rm I\\!R^{n}$. El vector de $S$ que minimiza la distancia del subespacio $S$ al vector $y$ es aquel $b$ de $S$ tal que $y - b$ es ortogonal a todo vector $s$ de $S$. Es decir, las siguientes dos condiciones son equivalentes:\n",
        "\n",
        "$$\n",
        "\\begin{align*}\n",
        "||y - t|| &= \\min_{s \\in S}||y - s|| \\\\\n",
        "\\implies (y - t) \\cdot s &= 0, \\forall s \\in S \\\\\n",
        "\\implies (y - X \\beta^{*}) \\cdot X \\beta &= 0, \\forall \\beta \\in \\rm I\\!R^{p}\n",
        "\\end{align*}\n",
        "$$"
      ]
    },
    {
      "attachments": {},
      "cell_type": "markdown",
      "metadata": {},
      "source": [
        "d) A la ecuación obtenida en el ítem (c), aplicarle la identidad del producto escalar vista en el item (b),\n",
        "para llegar a la ecuación:\n",
        "$$X^\\intercal (y − X\\beta^{∗}) \\cdot \\beta = 0$$"
      ]
    },
    {
      "attachments": {},
      "cell_type": "markdown",
      "metadata": {},
      "source": [
        "$$(y - X \\beta^{*}) \\cdot X \\beta = 0$$\n",
        "\n",
        "Llamemos $u = y - X \\beta^{*}$ y $v = X \\beta$ con $u \\in \\rm I\\!R^{n}$ y $v \\in \\rm I\\!R^{n}$.\n",
        "\n",
        "$$\n",
        "\\begin{align*}\n",
        "u \\cdot v = v^{\\intercal} u\n",
        "&\\iff (X \\beta)^\\intercal (y - X \\beta^{*}) = 0 \\\\\n",
        "&\\iff  \\beta^\\intercal X^\\intercal (y - X \\beta^{*}) = 0 \\\\\n",
        "\\end{align*}$$\n",
        "\n",
        "Ahora llamamos $k = \\beta^\\intercal$ y $q = X^\\intercal (y - X \\beta^{*})$.\n",
        "\n",
        "Entonces, por propiedad de la transpuesta: \n",
        "\n",
        "$$\n",
        "\\begin{align*}\n",
        "kq = q \\cdot k^\\intercal \\iff\n",
        "0 &= \\beta^\\intercal X^\\intercal (y - X \\beta^{*}) \\\\\n",
        "&= X^\\intercal (y - X \\beta^{*}) \\cdot {\\beta^{\\intercal}}^{\\intercal} \\\\\n",
        "&= X^\\intercal (y - X \\beta^{*}) \\cdot \\beta \\\\\n",
        "\\end{align*}\n",
        "$$\n",
        "\n",
        "$$\n",
        "\\iff  X^\\intercal (y - X \\beta^{*}) \\cdot \\beta = 0 \\\\\n",
        "$$"
      ]
    },
    {
      "attachments": {},
      "cell_type": "markdown",
      "metadata": {},
      "source": [
        "e) Se sabe que el único vector que es ortogonal a todo vector $v$ de $\\rm I\\!R^{n}$ es el vector nulo. Es decir, si u es un vector fijo tal que $u \\cdot v = 0$ para todo $v$ en $\\rm I\\!R^{n}$, entonces $u = 0$. Usando esto y la ecuación obtenida en\n",
        "el ítem (d), llegar a la fórmula:\n",
        "$$X^\\intercal X \\beta^{∗} =X^\\intercal y $$"
      ]
    },
    {
      "attachments": {},
      "cell_type": "markdown",
      "metadata": {},
      "source": [
        "Partimos de la igualdad obtenida en el ítem (d):\n",
        "\n",
        "$$\n",
        "\\begin{align*}\n",
        "0 &= X^\\intercal (y - X \\beta^{*}) \\cdot \\beta \\\\\n",
        "&= (X^\\intercal y - X^\\intercal X \\beta^{*}) \\cdot \\beta\n",
        "\\end{align*}\n",
        "$$\n",
        "\n",
        "Fijamos $(X^\\intercal y - X^\\intercal X \\beta^{*}) = 0$ ya que es el único vector que es ortogonal a todo vector $\\beta$ de $\\rm I\\!R^{p}$.\n",
        "\n",
        "$$\n",
        "\\begin{align*}\n",
        "(X^\\intercal y - X^\\intercal X \\beta^{*}) &= 0 \\\\\n",
        "\\iff X^\\intercal X \\beta^{*} &= X^\\intercal y\n",
        "\\end{align*}\n",
        "$$"
      ]
    },
    {
      "attachments": {},
      "cell_type": "markdown",
      "metadata": {},
      "source": [
        "f) Finalmente, suponiendo que las columnas de X son linealmente independientes, se tiene que la matriz $X^{\\intercal} X$ es invertible. Despejar $\\beta^{∗}$ de la ecuación del ítem (e) para llegar a la fórmula de la solución óptima al problema de regresión."
      ]
    },
    {
      "attachments": {},
      "cell_type": "markdown",
      "metadata": {},
      "source": [
        "$$\n",
        "\\begin{align*}\n",
        "X^\\intercal X \\beta^{*} &= X^\\intercal \\\\\n",
        "(X^{\\intercal} X)^{-1} X^{\\intercal} X \\beta^{*} &= (X^{\\intercal} X)^{-1} X^{\\intercal} \\\\\n",
        "\\beta^{*} &= (X^{\\intercal} X)^{-1} X^{\\intercal} y \\\\\n",
        "\\end{align*}\n",
        "$$"
      ]
    },
    {
      "attachments": {},
      "cell_type": "markdown",
      "metadata": {},
      "source": [
        "## Segunda parte.\n",
        "En esta sección la idea es realizar regresión lineal en $\\rm I\\!R^{2}$ y analizar como se comportan las soluciones obtenidas.\n"
      ]
    },
    {
      "attachments": {},
      "cell_type": "markdown",
      "metadata": {},
      "source": [
        "### 1. Usando los datos del archivo ejercicio_1.csv:"
      ]
    },
    {
      "attachments": {},
      "cell_type": "markdown",
      "metadata": {},
      "source": [
        "a) Graficar todos los puntos en el plano $xy$.\n",
        "Nota: La primer columna del archivo marca el valor de $x$ y la segunda el valor de $y$ de cada punto. Recomendamos usar la biblioteca pandas para leer los archivos con la función read_csv."
      ]
    },
    {
      "cell_type": "code",
      "execution_count": 25,
      "metadata": {},
      "outputs": [],
      "source": [
        "import pandas as pd\n",
        "import matplotlib.pyplot as plt\n",
        "import numpy as np"
      ]
    },
    {
      "cell_type": "code",
      "execution_count": 27,
      "metadata": {},
      "outputs": [],
      "source": [
        "data_ej1 = pd.read_csv('data/ejercicio_1.csv', sep=',')\n",
        "x_key = data_ej1.keys()[0]\n",
        "y_key = data_ej1.keys()[1]\n",
        "\n",
        "x_values = data_ej1[x_key]\n",
        "y_values = data_ej1[y_key]"
      ]
    },
    {
      "cell_type": "code",
      "execution_count": 28,
      "metadata": {},
      "outputs": [
        {
          "data": {
            "text/plain": [
              "[<matplotlib.lines.Line2D at 0x7fde9ad53820>]"
            ]
          },
          "execution_count": 28,
          "metadata": {},
          "output_type": "execute_result"
        },
        {
          "data": {
            "image/png": "[encoded data removed]",
            "text/plain": [
              "<Figure size 1000x500 with 1 Axes>"
            ]
          },
          "metadata": {},
          "output_type": "display_data"
        }
      ],
      "source": [
        "plt.figure(figsize=(10, 5))\n",
        "plt.plot(x_values, y_values, 'o')"
      ]
    },
    {
      "attachments": {},
      "cell_type": "markdown",
      "metadata": {},
      "source": [
        "b) Utilizando los conceptos teóricos desarrollados en la primera parte, hallar la recta que mejor aproxima a los datos."
      ]
    },
    {
      "attachments": {},
      "cell_type": "markdown",
      "metadata": {},
      "source": [
        "$$\n",
        "|| {y−X\\beta^{∗}} ||= \\min_{\\beta \\text{ en } \\rm I\\!R^{p}} ||y − X\\beta|| \\\\\n",
        "\\beta^{*} = (X^{\\intercal} X)^{-1} X^{\\intercal} y$$"
      ]
    },
    {
      "cell_type": "code",
      "execution_count": 76,
      "metadata": {},
      "outputs": [
        {
          "data": {
            "text/plain": [
              "((100, 1), (100, 1))"
            ]
          },
          "execution_count": 76,
          "metadata": {},
          "output_type": "execute_result"
        }
      ],
      "source": [
        "X = np.array(x_values).reshape(-1, 1)\n",
        "y = np.array(y_values).reshape(-1, 1)\n",
        "X.shape, y.shape"
      ]
    },
    {
      "cell_type": "code",
      "execution_count": 86,
      "metadata": {},
      "outputs": [],
      "source": [
        "def linear_regression(X, y):\n",
        "    X_t = X.T\n",
        "    X_t_X = np.dot(X_t, X)\n",
        "    X_t_X_inv = np.linalg.inv(X_t_X)\n",
        "    X_t_X_inv_X_t = np.dot(X_t_X_inv, X_t)\n",
        "    B = np.dot(X_t_X_inv_X_t, y)\n",
        "    return B"
      ]
    },
    {
      "cell_type": "code",
      "execution_count": 108,
      "metadata": {},
      "outputs": [
        {
          "data": {
            "text/plain": [
              "array([[0.75785414]])"
            ]
          },
          "execution_count": 108,
          "metadata": {},
          "output_type": "execute_result"
        }
      ],
      "source": [
        "b = linear_regression(X, y)\n",
        "b"
      ]
    },
    {
      "cell_type": "code",
      "execution_count": 115,
      "metadata": {},
      "outputs": [
        {
          "data": {
            "image/png": "[encoded data removed]",
            "text/plain": [
              "<Figure size 1000x500 with 1 Axes>"
            ]
          },
          "metadata": {},
          "output_type": "display_data"
        }
      ],
      "source": [
        "def plot_regression_line(X, y):\n",
        "    \n",
        "    b = linear_regression(X, y)\n",
        "\n",
        "    plt.figure(figsize=(10, 5))\n",
        "\n",
        "    plt.plot(X, y, 'o')\n",
        "    \n",
        "    min_x = np.min(X) - 5\n",
        "    max_x = np.max(X) + 5\n",
        "\n",
        "    line_x = np.linspace(min_x, max_x, 1000)\n",
        "    line_y = b[0] * line_x\n",
        "    \n",
        "    plt.plot(line_x, line_y, 'r')\n",
        "    \n",
        "    plt.show()\n",
        "\n",
        "plot_regression_line(X, y)"
      ]
    },
    {
      "attachments": {},
      "cell_type": "markdown",
      "metadata": {},
      "source": [
        "c) Realizar nuevamente los incisos (a) y (b) pero considerando los puntos \n",
        "$${(x_i, y_i + 12) \\text{ con } i = 1 \\dots n}$$\n",
        "\n",
        "donde $(x_i , y_i)$ eran los puntos originales. ¿Es buena la aproximación realizada?, ¿cuál es el problema?"
      ]
    },
    {
      "cell_type": "code",
      "execution_count": 116,
      "metadata": {},
      "outputs": [
        {
          "data": {
            "image/png": "[encoded data removed]",
            "text/plain": [
              "<Figure size 1000x500 with 1 Axes>"
            ]
          },
          "metadata": {},
          "output_type": "display_data"
        }
      ],
      "source": [
        "plot_regression_line(X, y + 12)"
      ]
    },
    {
      "attachments": {},
      "cell_type": "markdown",
      "metadata": {},
      "source": [
        "d) ¿Cómo se podría extender el modelo para poder aproximar cualquier recta en el plano?"
      ]
    },
    {
      "attachments": {},
      "cell_type": "markdown",
      "metadata": {},
      "source": [
        "### 2. Usando los datos del archivo ejercicio_2.csv:"
      ]
    },
    {
      "attachments": {},
      "cell_type": "markdown",
      "metadata": {},
      "source": [
        "a) Graficar y aproximar los puntos con una recta."
      ]
    },
    {
      "cell_type": "code",
      "execution_count": 125,
      "metadata": {},
      "outputs": [
        {
          "data": {
            "image/png": "[encoded data removed]",
            "text/plain": [
              "<Figure size 1000x500 with 1 Axes>"
            ]
          },
          "metadata": {},
          "output_type": "display_data"
        }
      ],
      "source": [
        "data_ej2 = pd.read_csv('data/ejercicio_2.csv', sep=',')\n",
        "\n",
        "x_2_key = data_ej2.keys()[0]\n",
        "y_2_key = data_ej2.keys()[1]\n",
        "\n",
        "x_2_values = data_ej2[x_2_key]\n",
        "y_2_values = data_ej2[y_2_key]\n",
        "\n",
        "X2 = np.array(x_2_values).reshape(-1, 1)\n",
        "y2 = np.array(y_2_values).reshape(-1, 1)\n",
        "\n",
        "plot_regression_line(X2, y2)"
      ]
    },
    {
      "attachments": {},
      "cell_type": "markdown",
      "metadata": {},
      "source": [
        "b) Imaginemos que los datos forman parte de mediciones de algún tipo, como por ejemplo la temperatura de un procesador a lo largo del tiempo), y queremos predecir cuál va a ser la temperatura en el futuro. ¿Es buena la aproximación que realizamos?, ¿cuál fue el problema en este caso?"
      ]
    },
    {
      "attachments": {},
      "cell_type": "markdown",
      "metadata": {},
      "source": [
        "## Tercera parte. Regresión lineal en datos reales."
      ]
    },
    {
      "attachments": {},
      "cell_type": "markdown",
      "metadata": {},
      "source": [
        "En esta sección utilizaremos el conjunto de datos provisto en [Machine Learning Repository](https://archive.ics.uci.edu/ml/datasets/Real+estate+valuation+data+set). Este consiste en datos de ventas de 414 casas en Taiwan. La información provista por casa es (en orden):"
      ]
    },
    {
      "attachments": {},
      "cell_type": "markdown",
      "metadata": {},
      "source": [
        "\n",
        "i) La fecha en que se realizó la transacción. Expresada en formato \n",
        "\n",
        "$$\\text{año} + \\frac{\\text{numero\\_mes}}{12}$$\n",
        "\n",
        "ii) La edad de la casa en años.\n",
        "\n",
        "iii) La distancia a la estación de tren o subte más cercana en metros.\n",
        "\n",
        "iv) La cantidad de almacenes alcanzables a pie.\n",
        "\n",
        "v) La latitud en grados.\n",
        "\n",
        "vi) La longitud en grados.\n",
        "\n",
        "vii) El precio por Ping. La cual es una unidad utilizada en Taiwan que representa 3,3 metros cuadrados."
      ]
    },
    {
      "attachments": {},
      "cell_type": "markdown",
      "metadata": {},
      "source": [
        "Vamos a dividir este conjunto de datos en dos:\n",
        "\n",
        "i) Datos de entrenamiento: usamos los datos desde la observación 1 a la 315 inclusive.\n",
        "\n",
        "ii) Datos de test: usamos los datos desde la observación 316 a la 414 inclusive."
      ]
    },
    {
      "attachments": {},
      "cell_type": "markdown",
      "metadata": {},
      "source": [
        "1. Teniendo en cuenta la teoría desarrollada en la primer parte del trabajo práctico y usando los datos de entrenamiento:"
      ]
    },
    {
      "cell_type": "code",
      "execution_count": 236,
      "metadata": {},
      "outputs": [
        {
          "data": {
            "text/plain": [
              "((414, 6), (414, 1))"
            ]
          },
          "execution_count": 236,
          "metadata": {},
          "output_type": "execute_result"
        }
      ],
      "source": [
        "real_estate = pd.read_csv('data/real_estate.csv', sep=';')\n",
        "real_estate.drop(['No'], axis=1, inplace=True)\n",
        "\n",
        "X_matrix = np.array(real_estate.drop(['Y house price of unit area'], axis=1)).reshape(-1, 6)\n",
        "y_matrix = np.array(real_estate['Y house price of unit area']).reshape(-1, 1)\n",
        "\n",
        "X_matrix.shape, y_matrix.shape"
      ]
    },
    {
      "cell_type": "code",
      "execution_count": 237,
      "metadata": {},
      "outputs": [
        {
          "data": {
            "text/plain": [
              "((315, 6), (315, 1), (99, 6), (99, 1))"
            ]
          },
          "execution_count": 237,
          "metadata": {},
          "output_type": "execute_result"
        }
      ],
      "source": [
        "X_train = X_matrix[0:315]\n",
        "y_train = y_matrix[0:315]\n",
        "\n",
        "X_test = X_matrix[315:]\n",
        "y_test = y_matrix[315:]\n",
        "\n",
        "X_train.shape, y_train.shape, X_test.shape, y_test.shape"
      ]
    },
    {
      "attachments": {},
      "cell_type": "markdown",
      "metadata": {},
      "source": [
        "a) Estimar los parámetros $\\hat\\beta$ que minimizan el error cuadrático medio para este problema."
      ]
    },
    {
      "cell_type": "code",
      "execution_count": 238,
      "metadata": {},
      "outputs": [
        {
          "data": {
            "text/plain": [
              "array([[ 3.46731881e+00],\n",
              "       [-2.82548977e-01],\n",
              "       [-5.33948396e-03],\n",
              "       [ 1.09746715e+00],\n",
              "       [ 2.43898979e+02],\n",
              "       [-1.07177835e+02]])"
            ]
          },
          "execution_count": 238,
          "metadata": {},
          "output_type": "execute_result"
        }
      ],
      "source": [
        "b_top = linear_regression(X_train, y_train)\n",
        "b_top"
      ]
    },
    {
      "attachments": {},
      "cell_type": "markdown",
      "metadata": {},
      "source": [
        "b) Encontrar $\\hat{y}$ la estimación de la variable de respuesta."
      ]
    },
    {
      "cell_type": "code",
      "execution_count": 239,
      "metadata": {},
      "outputs": [
        {
          "data": {
            "text/plain": [
              "array([47.80840156, 48.49329475, 48.06579267, 47.77800521, 46.90907048,\n",
              "       33.24236203, 39.58617051, 46.5325514 ,  9.21261341, 35.67395605,\n",
              "       34.38941184, 52.96881338, 41.47332594, 28.75128463, 45.54555386,\n",
              "       36.87383364, 50.68711729, 39.1034096 , 45.8679619 , 48.78977387,\n",
              "       36.17135162, 48.85490246, 27.58711415, 47.80983757, 35.09467719,\n",
              "       33.49495369, 47.11063604, 42.07735499, 42.43765837, 45.46516134,\n",
              "       13.18643054, 41.57882004, 31.82912671, 46.28765232, 48.04432449,\n",
              "       32.7166689 , 32.12485603, 29.21682609, 44.66088855, 45.98157311,\n",
              "       14.77752803, 16.07754418, 36.00001249, 40.67722659, 46.54159346,\n",
              "       39.09952345, 45.77294726, 36.90393981, 12.58277515, 10.74621244,\n",
              "       41.58882691, 21.3571733 , 35.47240251, 41.96413617, 45.71857323,\n",
              "       23.84929216, 42.78215907, 46.8265984 , 13.38019493, 41.3160949 ,\n",
              "       34.85909546, 49.78447781, 31.24604654, 46.56984836, 31.69362282,\n",
              "       42.9070232 , 47.60310552, 46.86898501, 42.99886544, 45.69134274,\n",
              "       53.75087839, 35.2833    , 44.35263491, 15.30006048, 53.74576416,\n",
              "       30.28667856, 37.3684018 , 30.03754561, 33.76220141, 26.54854309,\n",
              "       43.68261031, 37.98231155, 45.96989509, 25.97031578, 43.98961825,\n",
              "       49.87549284, 30.16293319, 16.33707674, 38.33180371, 16.25068267,\n",
              "       44.71079577, 39.44158005, 29.56160453, 23.97152713, 35.29431886,\n",
              "       44.98881263, 53.23181327, 38.30598501, 46.79189302, 53.23181327,\n",
              "       44.70093006, 41.49165222, 47.86263808, 44.87799681, 35.83536698,\n",
              "       49.24124535, 48.06621927, 29.73589122, 36.18597679, 37.39519869,\n",
              "       45.53613265, 44.19086291, 34.57987032, 43.11610514, 44.35214755,\n",
              "       38.06966214,  1.84378109, 13.50103319, 34.43102742, 47.02317069,\n",
              "       42.25539095, 43.32524342, 40.04405091, 45.08984631, 47.29077244,\n",
              "       48.15389286, 35.55525916, 48.93429863, 37.1752269 , 43.04355323,\n",
              "       44.93517112, 37.10741123, 40.65202011, 48.55812875, 37.2789567 ,\n",
              "       29.87191897, 44.81296957, 44.71975817, 39.96195917, 40.63475113,\n",
              "       46.26936058, 41.21639027, 40.74245667, 43.32524342, 28.95382621,\n",
              "       46.30233131, 42.77714466, 47.38124529, 14.34609325, 40.87079961,\n",
              "       40.02477372, 54.58608628, 29.79240101, 43.53183212, 16.04928928,\n",
              "       15.30006048, 26.02813433, 42.56263313, 45.62328947, 40.71071565,\n",
              "       48.13660155, 41.51139479, 13.70309425, 46.86898501, 43.06493212,\n",
              "       34.01416813, 51.26615953, 44.95476839, 36.64984503, 27.8428787 ,\n",
              "       12.85027446, 48.41176618, 53.75087839, 37.07983801, 51.88140065,\n",
              "       36.27381478, 14.16125012, 44.76939774, 45.67793578, 41.12611776,\n",
              "       10.53077825, 51.98138051, 34.42319595, 15.55052092, 18.65947837,\n",
              "       32.43003027, 31.0826105 , 17.96380052, 42.51071284, 14.1973718 ,\n",
              "       43.41198323, 38.40115301, 38.37067682, 47.94595309, 14.95053814,\n",
              "       39.53068055, 37.36787979, 42.34079653, 39.88069692, 45.48857507,\n",
              "       32.0131325 , 47.54672754, 33.89851335, 44.41744309, 26.54854309,\n",
              "       38.83895093, 50.54912708, 34.1840843 , 27.91222863, 41.46230554,\n",
              "       49.16526233, 45.57762548, 38.3355938 , 52.13023858, 36.19302118,\n",
              "       45.91335264, 32.45071606, 41.78856279, 43.03745596, 43.33922424,\n",
              "       44.43192826, 39.75762241, 48.53884766, 39.44158005, 41.53580149,\n",
              "       48.44168032, 13.958136  , 43.99617737, 34.60757489, 26.38768404,\n",
              "       37.10741123, 13.72356642, 12.99674827, 44.06171695, 35.0434563 ,\n",
              "       44.02924601, 55.49285085, 39.6866783 , 39.45193332, 33.17629944,\n",
              "       34.76943731, 46.40369594, 35.82672804, 46.44116373, 40.43432526,\n",
              "       44.63189032, 43.06491017, 29.94702562, 30.13145153,  9.12074903,\n",
              "       39.52913512, 24.11767893, 51.34817357, 27.90017302, 48.37136867,\n",
              "        8.98133574, 39.65831101, 40.76405661, 51.26615953, 31.84344708,\n",
              "       38.64305838, 30.66465307, 45.1995081 , 36.84787866, 39.25303386,\n",
              "       41.22978078, 35.12316871, 37.20528892, 45.48688715, 31.58391452,\n",
              "       43.47251644, 43.89619015, 40.8942837 , 43.37529192, 42.61389675,\n",
              "       48.78977387, 37.27412238, 31.86467551, 44.87799681, 41.77162803,\n",
              "       48.17963997, 54.06355383, 30.39767817, 33.48016432, 43.44229822,\n",
              "       36.63060852, 51.63942835, 37.24586748, 47.41489308, 47.20701068,\n",
              "       31.58994327, 46.56359852, 39.60299177, 43.25358606, 44.73521573,\n",
              "       31.80288936, 43.24697606, 33.78408666, 15.05624337, 47.80923548,\n",
              "       45.88034937, 30.56019012, 31.73450554, 33.05150773, 35.45850656,\n",
              "       45.69031833, 43.32529496, 16.97028187, 46.79189302, 24.98653675,\n",
              "       29.10806384, 40.79118791, 43.77105926, 46.34645256, 46.51280603])"
            ]
          },
          "execution_count": 239,
          "metadata": {},
          "output_type": "execute_result"
        }
      ],
      "source": [
        "y_pred = np.dot(X_train, b_top)\n",
        "# Como y_pred son muchos valores, lo Transponemos para que sea más fácil de leer\n",
        "y_pred.T[0]"
      ]
    },
    {
      "attachments": {},
      "cell_type": "markdown",
      "metadata": {},
      "source": [
        "c) ¿Cuánto vale el error cuadrático medio?\n",
        "\n",
        "Definimos error cuadrático medio como\n",
        "\n",
        "$$\\text{ECM} = \\frac{1}{n} \\sum_{i=1}^{n} (y_i - \\hat{y}_i)^2$$\n",
        "\n",
        "donde $y_i$ son observaciones de una variable y $\\hat{y}_i$ estimaciones de las mismas."
      ]
    },
    {
      "cell_type": "code",
      "execution_count": 240,
      "metadata": {},
      "outputs": [
        {
          "data": {
            "text/plain": [
              "84.0191008205169"
            ]
          },
          "execution_count": 240,
          "metadata": {},
          "output_type": "execute_result"
        }
      ],
      "source": [
        "def ECM(y, y_pred):\n",
        "    return np.sum((y - y_pred)**2) / len(y)\n",
        "\n",
        "ECM(y_train, y_pred)"
      ]
    },
    {
      "attachments": {},
      "cell_type": "markdown",
      "metadata": {},
      "source": [
        "2. Utilizando los datos de test, analizar cuál es el error cuadrático medio al utilizar los parámetros $\\hat\\beta$ estimados en el punto anterior."
      ]
    },
    {
      "cell_type": "code",
      "execution_count": 241,
      "metadata": {},
      "outputs": [
        {
          "data": {
            "text/plain": [
              "59.70694292656535"
            ]
          },
          "execution_count": 241,
          "metadata": {},
          "output_type": "execute_result"
        }
      ],
      "source": [
        "y_eval = np.dot(X_test, b_top)\n",
        "ECM(y_test, y_eval)"
      ]
    },
    {
      "attachments": {},
      "cell_type": "markdown",
      "metadata": {},
      "source": [
        "a) ¿Es la estimación mejor que sobre los datos originales?, ¿a qué se debe la discrepancia?"
      ]
    },
    {
      "attachments": {},
      "cell_type": "markdown",
      "metadata": {},
      "source": [
        "La estimación es mejor que sobre los datos originales ya que el error cuadrático medio es menor.\n",
        "Esto se debe a que los datos de entrenamiento son más cercanos a los datos de test que a los datos \"originales\"."
      ]
    },
    {
      "attachments": {},
      "cell_type": "markdown",
      "metadata": {},
      "source": [
        "b) ¿Qué sucede con el ECM del segundo conjunto de casas si se realiza la regresión sobre todos los datos al mismo tiempo (es decir, las 414 casas)?"
      ]
    },
    {
      "cell_type": "code",
      "execution_count": 242,
      "metadata": {},
      "outputs": [
        {
          "data": {
            "text/plain": [
              "77.99210449987933"
            ]
          },
          "execution_count": 242,
          "metadata": {},
          "output_type": "execute_result"
        }
      ],
      "source": [
        "b_ = linear_regression(X_matrix, y_matrix)\n",
        "y_pred_ = np.dot(X_matrix, b_)\n",
        "ECM(y_matrix, y_pred_)"
      ]
    },
    {
      "attachments": {},
      "cell_type": "markdown",
      "metadata": {},
      "source": [
        "3. Graficar el error cometido por cada casa. Es decir el valor absoluto de la diferencia entre el precio por Ping real y el estimado."
      ]
    },
    {
      "cell_type": "code",
      "execution_count": 248,
      "metadata": {},
      "outputs": [
        {
          "data": {
            "text/plain": [
              "(315, 1)"
            ]
          },
          "execution_count": 248,
          "metadata": {},
          "output_type": "execute_result"
        }
      ],
      "source": [
        "y_pred.shape"
      ]
    },
    {
      "cell_type": "code",
      "execution_count": 249,
      "metadata": {},
      "outputs": [
        {
          "data": {
            "image/png": "[encoded data removed]",
            "text/plain": [
              "<Figure size 1000x500 with 1 Axes>"
            ]
          },
          "metadata": {},
          "output_type": "display_data"
        }
      ],
      "source": [
        "y_matrix_plt = y_matrix[:y_pred.shape[0]].T[0]\n",
        "y_pred_plt = y_pred.T[0]\n",
        "\n",
        "plt.figure(figsize=(10, 5))\n",
        "plt.plot(y_matrix_plt, y_matrix_plt - y_pred_plt, 'o')\n",
        "plt.show()"
      ]
    },
    {
      "attachments": {},
      "cell_type": "markdown",
      "metadata": {},
      "source": [
        "4. Imaginemos que se agrega una nueva columna a los datos que informa el año en que la misma fue construida. ¿Disminuiría esto el ECM?"
      ]
    },
    {
      "cell_type": "markdown",
      "metadata": {},
      "source": []
    }
  ],
  "metadata": {
    "colab": {
      "provenance": []
    },
    "kernelspec": {
      "display_name": "Python 3",
      "name": "python3"
    },
    "language_info": {
      "codemirror_mode": {
        "name": "ipython",
        "version": 3
      },
      "file_extension": ".py",
      "mimetype": "text/x-python",
      "name": "python",
      "nbconvert_exporter": "python",
      "pygments_lexer": "ipython3",
      "version": "3.9.4"
    }
  },
  "nbformat": 4,
  "nbformat_minor": 0
}
