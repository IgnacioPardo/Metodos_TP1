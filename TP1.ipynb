{
 "cells": [
  {
   "cell_type": "markdown",
   "metadata": {},
   "source": [
    "## Primera parte\n",
    "\n",
    "El objetivo de esta sección es deducir una fórmula para la solución óptima $\\beta^{\\ast}$ siguiendo los pasos a continuación:"
   ]
  },
  {
   "cell_type": "markdown",
   "metadata": {
    "id": "RPuEHyZ3KN6P"
   },
   "source": [
    "a) Mostrar que el espacio columna de la matriz X es un subespacio vectorial de $\\rm I\\!R^n$:\n",
    "\n",
    "$$Col(X)= \\{b \\text{ en } \\rm I\\!R^n \\text{ tales que } b = X \\beta \\text{ con } \\beta \\text{ variando en } \\rm I\\!R^p \\}$$"
   ]
  },
  {
   "cell_type": "markdown",
   "metadata": {},
   "source": [
    "Para mostrar que $Col(X)$ es un subespacio vectorial de $\\rm I\\!R^n$, debemos demostrar que $Col(X)$ cumple con las siguientes propiedades:\n",
    "\n",
    "1. El vector cero pertenece al espacio $Col(X)$.\n",
    "\n",
    "$$Col(X) = Gen\\{x_1, x_2, \\dots, x_p\\}$$\n",
    "\n",
    "El vector $0$ está en $Col(X)$ porque $0 * x_1 + 0 * x_2$ es combinación lineal de los vectores de %Col(X)%.\n",
    "\n",
    "2. La suma de dos vectores pertenecientes a $Col(X)$ también pertenece a $Col(X)$.\n",
    "\n",
    "Sean $u$, $v$ vectores en $Col(X)$, $s_1$, $s_2$ y $t_1$, $t_2$ escalares tales que:\n",
    "\n",
    "$$u = s_1 x_1 + s_2 x_2 \\iff u \\in Col(X)$$\n",
    "\n",
    "Por ser combinación lineal de los vectores de $Col(X)$.\n",
    "\n",
    "$$v = t_1 x_1 + t_2 x_2 \\iff v \\in Col(X)$$\n",
    "\n",
    "Por ser combinación lineal de los vectores de $Col(X)$.\n",
    "\n",
    "Entonces:\n",
    "\n",
    "$$u + v = s_1 x_1 + s_2 x_2 + t_1 x_1 + t_2 x_2$$\n",
    "$$u + v = (s_1 + t_1) x_1 + (s_2 + t_2) x_2$$\n",
    "\n",
    "Llamamos $c_1 = s_1 + t_1$ y $c_2 = s_2 + t_2$. \n",
    "\n",
    "Entonces:\n",
    "\n",
    "$$u + v = c_1 x_1 + c_2 x_2$$\n",
    "\n",
    "$$c_1 x_1 \\in Col(X) \\land c_2 x_2 \\in Col(X) \\implies  c_1 x_1 + c_2 x_2 \\in Col(X) \\implies u + v \\in Col(X)$$\n",
    "\n",
    "3. El producto de un escalar por un vector perteneciente a $Col(X)$ también pertenece a $Col(X)$.\n",
    "\n",
    "Sea $u$ un vector en $Col(X)$, $s_1$, $s_2$ escalares tales que:\n",
    "\n",
    "$$u = s_1 x_1 + s_2 x_2 \\iff u \\in Col(X)$$\n",
    "\n",
    "Llamemos $c$ al escalar.\n",
    "\n",
    "Entonces:\n",
    "\n",
    "$$cu = c * (s_1 x_1 + s_2 x_2)$$\n",
    "$$cu = (c * s_1) x_1 + (c * s_2) x_2$$\n",
    "\n",
    "Llamemos $c_1 = c * s_1$ y $c_2 = c * s_2$\n",
    "\n",
    "Entonces:\n",
    "\n",
    "$$cu = c_1 x_1 + c_2 x_2$$\n",
    "\n",
    "$$c_1 x_1 \\in Col(X) \\land c_2 x_2 \\in Col(X) \\implies  c_1 x_1 + c_2 x_2 \\in Col(X) \\implies cu \\in Col(X)$$\n",
    "\n",
    "Por lo tanto $Col(X)$ es un subespacio vectorial de $\\rm I\\!R^n$.\n"
   ]
  },
  {
   "cell_type": "markdown",
   "metadata": {
    "id": "Jdk4NGv-Ltnw"
   },
   "source": [
    "b) Supongamos que cuando hablamos de vectores en $\\rm I\\!R^{n}$ nos referimos a vectores columna de $\\rm I\\!R^{n \\times 1}$. Mostrar en ese caso que el producto escalar entre dos vectores $u$, $v$ en $\\rm I\\!R^{n}$ puede calcularse como:\n",
    "$$u \\cdot v = v^{\\intercal} u$$\n",
    "donde operación en el lado derecho de la igualdad es el producto de matrices usual."
   ]
  },
  {
   "attachments": {},
   "cell_type": "markdown",
   "metadata": {},
   "source": [
    "Sean $u$, $v$ vectores columna en $\\rm I\\!R^{n}$.\n",
    "\n",
    "$$u = \\begin{bmatrix}{\n",
    "u_1} \\\\ {u_2} \\\\ \\vdots \\\\ {u_n}\n",
    "\\end{bmatrix}, v = \\begin{bmatrix}{\n",
    "v_1} \\\\ {v_2} \\\\ \\vdots \\\\ {v_n}\n",
    "\\end{bmatrix}$$\n",
    "\n",
    "Entonces:\n",
    "\n",
    "$$v^{\\intercal} = \\begin{bmatrix}{\n",
    "v_1} & {v_2} & \\dots & {v_n}\n",
    "\\end{bmatrix}$$\n",
    "\n",
    "$$u \\cdot v = \\begin{bmatrix}{\n",
    "v_1} & {v_2} & \\dots & {v_n}\n",
    "\\end{bmatrix} \\begin{bmatrix}{\n",
    "u_1} \\\\ {u_2} \\\\ \\vdots \\\\ {u_n}\n",
    "\\end{bmatrix} = \\sum_{i=1}^{n} v_i u_i$$\n",
    "\n",
    "Ademas, como el producto vectorial es conmutativo:\n",
    "\n",
    "$$u \\cdot v = v \\cdot u \\implies \n",
    "v \\cdot u = u^{\\intercal} v =\n",
    "\\begin{bmatrix}{\n",
    "u_1} & {u_2} & \\dots & {u_n}\n",
    "\\end{bmatrix} \\begin{bmatrix}{\n",
    "v_1} \\\\ {v_2} \\\\ \\vdots \\\\ {v_n}\n",
    "\\end{bmatrix} = \\sum_{i=1}^{n} u_i v_i$$\n",
    "\n",
    "$$ \\sum_{i=1}^{n} u_i v_i = \\begin{bmatrix}{\n",
    "u_1} & {u_2} & \\dots & {u_n}\n",
    "\\end{bmatrix} \\begin{bmatrix}{\n",
    "v_1} \\\\ {v_2} \\\\ \\vdots \\\\ {v_n}\n",
    "\\end{bmatrix}\n"
   ]
  },
  {
   "cell_type": "markdown",
   "metadata": {},
   "source": [
    "c) Aplicando el teorema tomando como subespacio $S$ el subespacio del ítem (a), el punto $y$ de $\\rm I\\!R^{n}$ como el vector de la variable dependiente, y el vector $b$ como $b = X \\beta^{∗}$, convertir esta ecuación de optimalidad\n",
    "$$|| {y−X\\beta^{∗}} ||= \\min_{\\beta \\text{ en } \\rm I\\!R^{p}} ||y − X\\beta||$$\n",
    "en la condición de ortogonalidad que corresponde a la equivalencia 2 del teorema."
   ]
  },
  {
   "cell_type": "markdown",
   "metadata": {},
   "source": [
    "$$\\forall \\beta \\in \\rm I\\!R^{p}, (y - X \\beta^{\\ast}) \\cdot X \\beta = 0$$\n"
   ]
  },
  {
   "attachments": {},
   "cell_type": "markdown",
   "metadata": {},
   "source": [
    "Llamemos $t = X \\beta^{\\ast}$ y $s = X \\beta$ donde $s$ son todos los valores en el subespacio $S = X\\beta$ con $\\beta$ variando en $\\rm I\\!R^{p}$, y $t$ es el vector $X \\beta^{\\ast}$ que es el vector que minimiza la distancia entre $y$ y $X \\beta$. $t$ es la _proyección ortogonal_ de y sobre el subespacio $S$.\n",
    "\n",
    "Entonces por el Teroema. Sea $y$ un vector cualquiera de $\\rm I\\!R^{n}$ y $S$ un subespacio de $\\rm I\\!R^{n}$. El vector de $S$ que minimiza la distancia del subespacio $S$ al vector $y$ es aquel $b$ de $S$ tal que $y - b$ es ortogonal a todo vector $s$ de $S$. Es decir, las siguientes dos condiciones son equivalentes:\n",
    "\n",
    "$$\n",
    "\\begin{aligned}\n",
    "||y - t|| &= \\min_{s \\in S}||y - s|| \\\\\n",
    "\\implies (y - t) \\cdot s &= 0, \\forall s \\in S \\\\\n",
    "\\implies (y - X \\beta^{\\ast}) \\cdot X \\beta &= 0, \\forall \\beta \\in \\rm I\\!R^{p}\n",
    "\\end{aligned}\n",
    "$$"
   ]
  },
  {
   "cell_type": "markdown",
   "metadata": {},
   "source": [
    "d) A la ecuación obtenida en el ítem (c), aplicarle la identidad del producto escalar vista en el item (b),\n",
    "para llegar a la ecuación:\n",
    "$$X^\\intercal (y − X\\beta^{∗}) \\cdot \\beta = 0$$"
   ]
  },
  {
   "attachments": {},
   "cell_type": "markdown",
   "metadata": {},
   "source": [
    "$$(y - X \\beta^{\\ast}) \\cdot X \\beta = 0$$\n",
    "\n",
    "Llamemos $u = y - X \\beta^{\\ast}$ y $v = X \\beta$ con $u \\in \\rm I\\!R^{n}$ y $v \\in \\rm I\\!R^{n}$.\n",
    "\n",
    "$$\n",
    "\\begin{aligned}\n",
    "u \\cdot v = v^{\\intercal} u\n",
    "&\\iff (X \\beta)^\\intercal (y - X \\beta^{\\ast}) = 0 \\\\\n",
    "&\\iff  \\beta^\\intercal X^\\intercal (y - X \\beta^{\\ast}) = 0 \\\\\n",
    "\\end{aligned}$$\n",
    "\n",
    "Ahora llamamos $k = \\beta^\\intercal$ y $q = X^\\intercal (y - X \\beta^{\\ast})$.\n",
    "\n",
    "Entonces, por propiedad de la transpuesta: \n",
    "\n",
    "$$\n",
    "\\begin{aligned}\n",
    "kq = q \\cdot k^\\intercal \\iff\n",
    "0 &= \\beta^\\intercal X^\\intercal (y - X \\beta^{\\ast}) \\\\\n",
    "&= X^\\intercal (y - X \\beta^{\\ast}) \\cdot {\\beta^{\\intercal}}^{\\intercal} \\\\\n",
    "&= X^\\intercal (y - X \\beta^{\\ast}) \\cdot \\beta \\\\\n",
    "\\end{aligned}\n",
    "$$\n",
    "\n",
    "$$\n",
    "\\iff  X^\\intercal (y - X \\beta^{\\ast}) \\cdot \\beta = 0 \\\\\n",
    "$$"
   ]
  },
  {
   "attachments": {},
   "cell_type": "markdown",
   "metadata": {},
   "source": [
    "Ahora llamamos $k = \\beta^\\intercal$ y $q = X^\\intercal (y - X \\beta^{\\ast})$.\n",
    "\n",
    "Tenemos:\n",
    "\n",
    "$$\n",
    "\\begin{aligned}\n",
    "kq &= q^\\intercal \\cdot k \\\\\n",
    "&= k \\cdot q^\\intercal \\\\\n",
    "&= qk \\\\\n",
    "&= k^\\intercal \\cdot q \\\\\n",
    "&= q \\cdot k^\\intercal\n",
    "\\implies\n",
    "kq = q \\cdot k^\\intercal\n",
    "\\beta^\\intercal X^\\intercal (y - X \\beta^{\\ast}) = X^\\intercal (y - X \\beta^{\\ast}) \\cdot \\beta\n",
    "\\end{aligned}\n",
    "$$\n",
    "\n",
    "Entonces, por propiedad de la transpuesta: \n",
    "\n",
    "$$\n",
    "\\begin{aligned}\n",
    "kq = q \\cdot k^\\intercal \\iff\n",
    "0 &= \\beta^\\intercal X^\\intercal (y - X \\beta^{\\ast}) \\\\\n",
    "&= X^\\intercal (y - X \\beta^{\\ast}) \\cdot {\\beta^{\\intercal}}^{\\intercal} \\\\\n",
    "&= X^\\intercal (y - X \\beta^{\\ast}) \\cdot \\beta \\\\\n",
    "\\end{aligned}\n",
    "$$\n"
   ]
  },
  {
   "cell_type": "markdown",
   "metadata": {},
   "source": [
    "e) Se sabe que el único vector que es ortogonal a todo vector $v$ de $\\rm I\\!R^{n}$ es el vector nulo. Es decir, si u es un vector fijo tal que $u \\cdot v = 0$ para todo $v$ en $\\rm I\\!R^{n}$, entonces $u = 0$. Usando esto y la ecuación obtenida en\n",
    "el ítem (d), llegar a la fórmula:\n",
    "$$X^\\intercal X \\beta^{∗} =X^\\intercal y $$"
   ]
  },
  {
   "attachments": {},
   "cell_type": "markdown",
   "metadata": {},
   "source": [
    "Partimos de la igualdad obtenida en el ítem (d):\n",
    "\n",
    "$$\n",
    "\\begin{aligned}\n",
    "0 &= X^\\intercal (y - X \\beta^{\\ast}) \\cdot \\beta \\\\\n",
    "&= (X^\\intercal y - X^\\intercal X \\beta^{\\ast}) \\cdot \\beta\n",
    "\\end{aligned}\n",
    "$$\n",
    "\n",
    "Fijamos $(X^\\intercal y - X^\\intercal X \\beta^{\\ast}) = 0$ ya que es el único vector que es ortogonal a todo vector $\\beta$ de $\\rm I\\!R^{p}$.\n",
    "\n",
    "$$\n",
    "\\begin{aligned}\n",
    "(X^\\intercal y - X^\\intercal X \\beta^{\\ast}) &= 0 \\\\\n",
    "\\iff X^\\intercal X \\beta^{\\ast} &= X^\\intercal y\n",
    "\\end{aligned}\n",
    "$$"
   ]
  },
  {
   "cell_type": "markdown",
   "metadata": {},
   "source": [
    "f) Finalmente, suponiendo que las columnas de X son linealmente independientes, se tiene que la matriz $X^{\\intercal} X$ es invertible. Despejar $\\beta^{∗}$ de la ecuación del ítem (e) para llegar a la fórmula de la solución óptima al problema de regresión."
   ]
  },
  {
   "attachments": {},
   "cell_type": "markdown",
   "metadata": {},
   "source": [
    "$$\n",
    "\\begin{aligned}\n",
    "X^\\intercal X \\beta^{\\ast} &= X^\\intercal \\\\\n",
    "(X^{\\intercal} X)^{-1} X^{\\intercal} X \\beta^{\\ast} &= (X^{\\intercal} X)^{-1} X^{\\intercal} \\\\\n",
    "\\beta^{\\ast} &= (X^{\\intercal} X)^{-1} X^{\\intercal} y \\\\\n",
    "\\end{aligned}\n",
    "$$"
   ]
  },
  {
   "cell_type": "markdown",
   "metadata": {},
   "source": [
    "## Segunda parte.\n",
    "En esta sección la idea es realizar regresión lineal en $\\rm I\\!R^{2}$ y analizar como se comportan las soluciones obtenidas.\n"
   ]
  },
  {
   "cell_type": "markdown",
   "metadata": {},
   "source": [
    "### 1. Usando los datos del archivo ejercicio_1.csv:"
   ]
  },
  {
   "cell_type": "markdown",
   "metadata": {},
   "source": [
    "a) Graficar todos los puntos en el plano $xy$.\n",
    "Nota: La primer columna del archivo marca el valor de $x$ y la segunda el valor de $y$ de cada punto. Recomendamos usar la biblioteca pandas para leer los archivos con la función read_csv."
   ]
  },
  {
   "cell_type": "code",
   "execution_count": 78,
   "metadata": {},
   "outputs": [],
   "source": [
    "import pandas as pd\n",
    "import matplotlib.pyplot as plt\n",
    "import numpy as np\n",
    "from typing import Callable, List, Tuple"
   ]
  },
  {
   "cell_type": "code",
   "execution_count": 79,
   "metadata": {},
   "outputs": [],
   "source": [
    "data_ej1: pd.DataFrame = pd.read_csv('data/ejercicio_1.csv', sep=',')\n",
    "x_key: pd.Index = data_ej1.keys()[0]\n",
    "y_key: pd.Index = data_ej1.keys()[1]\n",
    "\n",
    "x_values: pd.DataFrame = data_ej1[x_key]\n",
    "y_values: pd.DataFrame = data_ej1[y_key]"
   ]
  },
  {
   "cell_type": "code",
   "execution_count": 80,
   "metadata": {},
   "outputs": [
    {
     "data": {
      "text/plain": [
       "[<matplotlib.lines.Line2D at 0x7fc1e0a88490>]"
      ]
     },
     "execution_count": 80,
     "metadata": {},
     "output_type": "execute_result"
    },
    {
     "data": {
      "image/png": "[encoded data removed]",
      "text/plain": [
       "<Figure size 1000x500 with 1 Axes>"
      ]
     },
     "metadata": {},
     "output_type": "display_data"
    }
   ],
   "source": [
    "plt.figure(figsize=(10, 5))\n",
    "plt.plot(x_values, y_values, 'o')"
   ]
  },
  {
   "cell_type": "markdown",
   "metadata": {},
   "source": [
    "b) Utilizando los conceptos teóricos desarrollados en la primera parte, hallar la recta que mejor aproxima a los datos."
   ]
  },
  {
   "cell_type": "markdown",
   "metadata": {},
   "source": [
    "$$\n",
    "|| {y−X\\beta^{∗}} ||= \\min_{\\beta \\text{ en } \\rm I\\!R^{p}} ||y − X\\beta|| \\\\\n",
    "\\beta^{\\ast} = (X^{\\intercal} X)^{-1} X^{\\intercal} y$$"
   ]
  },
  {
   "cell_type": "code",
   "execution_count": 81,
   "metadata": {},
   "outputs": [
    {
     "data": {
      "text/plain": [
       "((100, 1), (100, 1))"
      ]
     },
     "execution_count": 81,
     "metadata": {},
     "output_type": "execute_result"
    }
   ],
   "source": [
    "X: np.ndarray = np.array(x_values).reshape(-1, 1)\n",
    "y: np.ndarray = np.array(y_values).reshape(-1, 1)\n",
    "X.shape, y.shape"
   ]
  },
  {
   "cell_type": "code",
   "execution_count": 82,
   "metadata": {},
   "outputs": [],
   "source": [
    "def linear_regression(X: np.ndarray, y: np.ndarray) -> np.ndarray:\n",
    "    \"\"\"\n",
    "    Args:\n",
    "        X (np.ndarray): X values\n",
    "        y (np.ndarray): y values\n",
    "\n",
    "    Returns:\n",
    "        np.ndarray: B values for the linear regression, B = (X^T X)^-1 X^T y, without 1s in the first column\n",
    "    \"\"\"\n",
    "    X_t = X.T\n",
    "    X_t_X = np.dot(X_t, X)\n",
    "    X_t_X_inv = np.linalg.inv(X_t_X)\n",
    "    X_t_X_inv_X_t = np.dot(X_t_X_inv, X_t)\n",
    "    B = np.dot(X_t_X_inv_X_t, y)\n",
    "    return B"
   ]
  },
  {
   "cell_type": "code",
   "execution_count": 83,
   "metadata": {},
   "outputs": [
    {
     "data": {
      "text/plain": [
       "array([[0.75785414]])"
      ]
     },
     "execution_count": 83,
     "metadata": {},
     "output_type": "execute_result"
    }
   ],
   "source": [
    "b = linear_regression(X, y)\n",
    "b"
   ]
  },
  {
   "cell_type": "code",
   "execution_count": 84,
   "metadata": {},
   "outputs": [
    {
     "data": {
      "image/png": "[encoded data removed]",
      "text/plain": [
       "<Figure size 1000x500 with 1 Axes>"
      ]
     },
     "metadata": {},
     "output_type": "display_data"
    }
   ],
   "source": [
    "def plot_regression_line(X: np.ndarray, y: np.ndarray, reg_func: Callable[[np.ndarray, np.ndarray], np.ndarray] = linear_regression):\n",
    "    \"\"\"\n",
    "    Args:\n",
    "        X (_type_): _description_\n",
    "        y (_type_): _description_\n",
    "        reg_func (_type_, optional): _description_. Defaults to linear_regression.\n",
    "    \"\"\"\n",
    "\n",
    "    b = reg_func(X, y).flatten()\n",
    "\n",
    "    plt.figure(figsize=(10, 5))\n",
    "\n",
    "    plt.plot(X, y, 'o')\n",
    "    \n",
    "    min_x = np.min(X) - 5\n",
    "    max_x = np.max(X) + 5\n",
    "\n",
    "    line_x = np.linspace(min_x, max_x, 1000)\n",
    "    line_y = b[0] * line_x\n",
    "\n",
    "    if len(b) > 1:\n",
    "        line_y += b[1]\n",
    "    \n",
    "    plt.plot(line_x, line_y, 'r')\n",
    "    \n",
    "    plt.show()\n",
    "\n",
    "plot_regression_line(X, y)"
   ]
  },
  {
   "cell_type": "markdown",
   "metadata": {},
   "source": [
    "c) Realizar nuevamente los incisos (a) y (b) pero considerando los puntos \n",
    "$${(x_i, y_i + 12) \\text{ con } i = 1 \\dots n}$$\n",
    "\n",
    "donde $(x_i , y_i)$ eran los puntos originales. ¿Es buena la aproximación realizada?, ¿cuál es el problema?"
   ]
  },
  {
   "cell_type": "code",
   "execution_count": 85,
   "metadata": {},
   "outputs": [
    {
     "data": {
      "image/png": "[encoded data removed]",
      "text/plain": [
       "<Figure size 1000x500 with 1 Axes>"
      ]
     },
     "metadata": {},
     "output_type": "display_data"
    }
   ],
   "source": [
    "plot_regression_line(X, y + 12)"
   ]
  },
  {
   "attachments": {},
   "cell_type": "markdown",
   "metadata": {},
   "source": [
    "La recta aproximada no es buena ya que los puntos están alejados de la recta aproximada por 12 unidades. Esto es porque la regresión lineal no tiene en cuenta la ordenada al origen, solo la pendiente."
   ]
  },
  {
   "cell_type": "markdown",
   "metadata": {},
   "source": [
    "d) ¿Cómo se podría extender el modelo para poder aproximar cualquier recta en el plano?"
   ]
  },
  {
   "attachments": {},
   "cell_type": "markdown",
   "metadata": {},
   "source": [
    "Para resolverlo, se puede agregar una columna de 1's a la matriz $X$ y agregar un coeficiente $\\beta_0$ a la ecuación de la recta. De esta forma, se puede aproximar cualquier recta en el plano."
   ]
  },
  {
   "cell_type": "code",
   "execution_count": 86,
   "metadata": {},
   "outputs": [
    {
     "data": {
      "image/png": "[encoded data removed]",
      "text/plain": [
       "<Figure size 1000x500 with 1 Axes>"
      ]
     },
     "metadata": {},
     "output_type": "display_data"
    }
   ],
   "source": [
    "def ones_column(X: np.ndarray) -> np.ndarray:\n",
    "    \"\"\"\n",
    "    Args:\n",
    "        X (np.ndarray): X values\n",
    "\n",
    "    Returns:\n",
    "        np.ndarray: X with 1s in the first column\n",
    "    \"\"\"\n",
    "    ones = np.ones((X.shape[0], 1))\n",
    "    return np.concatenate((ones, X), axis=1)\n",
    "\n",
    "def linear_regression_ones(X: np.ndarray, y: np.ndarray) -> np.ndarray:\n",
    "    \"\"\"\n",
    "    Args:\n",
    "        X (np.ndarray): X values\n",
    "        y (np.ndarray): y values\n",
    "\n",
    "    Returns:\n",
    "        np.ndarray: B values for the linear regression, B = (X^T X)^-1 X^T y, with 1s in the first column\n",
    "    \"\"\"\n",
    "    X = ones_column(X)\n",
    "    X_t = X.T\n",
    "    X_t_X = np.dot(X_t, X)\n",
    "    X_t_X_inv = np.linalg.inv(X_t_X)\n",
    "    X_t_X_inv_X_t = np.dot(X_t_X_inv, X_t)\n",
    "    B = np.dot(X_t_X_inv_X_t, y)\n",
    "    return B\n",
    "\n",
    "plot_regression_line(X, y, linear_regression_ones)"
   ]
  },
  {
   "cell_type": "markdown",
   "metadata": {},
   "source": [
    "### 2. Usando los datos del archivo ejercicio_2.csv:"
   ]
  },
  {
   "cell_type": "markdown",
   "metadata": {},
   "source": [
    "a) Graficar y aproximar los puntos con una recta."
   ]
  },
  {
   "cell_type": "code",
   "execution_count": 87,
   "metadata": {},
   "outputs": [
    {
     "data": {
      "image/png": "[encoded data removed]",
      "text/plain": [
       "<Figure size 1000x500 with 1 Axes>"
      ]
     },
     "metadata": {},
     "output_type": "display_data"
    }
   ],
   "source": [
    "data_ej2: pd.DataFrame = pd.read_csv('data/ejercicio_2.csv', sep=',')\n",
    "\n",
    "x_2_key: pd.Index = data_ej2.keys()[0]\n",
    "y_2_key: pd.Index = data_ej2.keys()[1]\n",
    "\n",
    "x_2_values: pd.DataFrame = data_ej2[x_2_key]\n",
    "y_2_values: pd.DataFrame = data_ej2[y_2_key]\n",
    "\n",
    "X2: np.ndarray = np.array(x_2_values).reshape(-1, 1)\n",
    "y2: np.ndarray = np.array(y_2_values).reshape(-1, 1)\n",
    "\n",
    "plot_regression_line(X2, y2, linear_regression_ones)"
   ]
  },
  {
   "cell_type": "markdown",
   "metadata": {},
   "source": [
    "b) Imaginemos que los datos forman parte de mediciones de algún tipo, como por ejemplo la temperatura de un procesador a lo largo del tiempo), y queremos predecir cuál va a ser la temperatura en el futuro. ¿Es buena la aproximación que realizamos?, ¿cuál fue el problema en este caso?"
   ]
  },
  {
   "cell_type": "markdown",
   "metadata": {},
   "source": [
    "## Tercera parte. Regresión lineal en datos reales."
   ]
  },
  {
   "cell_type": "markdown",
   "metadata": {},
   "source": [
    "En esta sección utilizaremos el conjunto de datos provisto en [Machine Learning Repository](https://archive.ics.uci.edu/ml/datasets/Real+estate+valuation+data+set). Este consiste en datos de ventas de 414 casas en Taiwan. La información provista por casa es (en orden):"
   ]
  },
  {
   "cell_type": "markdown",
   "metadata": {},
   "source": [
    "\n",
    "i) La fecha en que se realizó la transacción. Expresada en formato \n",
    "\n",
    "$$\\text{año} + \\frac{\\text{numero\\_mes}}{12}$$\n",
    "\n",
    "ii) La edad de la casa en años.\n",
    "\n",
    "iii) La distancia a la estación de tren o subte más cercana en metros.\n",
    "\n",
    "iv) La cantidad de almacenes alcanzables a pie.\n",
    "\n",
    "v) La latitud en grados.\n",
    "\n",
    "vi) La longitud en grados.\n",
    "\n",
    "vii) El precio por Ping. La cual es una unidad utilizada en Taiwan que representa 3,3 metros cuadrados."
   ]
  },
  {
   "cell_type": "markdown",
   "metadata": {},
   "source": [
    "Vamos a dividir este conjunto de datos en dos:\n",
    "\n",
    "i) Datos de entrenamiento: usamos los datos desde la observación 1 a la 315 inclusive.\n",
    "\n",
    "ii) Datos de test: usamos los datos desde la observación 316 a la 414 inclusive."
   ]
  },
  {
   "cell_type": "code",
   "execution_count": 88,
   "metadata": {},
   "outputs": [
    {
     "data": {
      "text/plain": [
       "((414, 6), (414, 1))"
      ]
     },
     "execution_count": 88,
     "metadata": {},
     "output_type": "execute_result"
    }
   ],
   "source": [
    "real_estate: pd.DataFrame = pd.read_csv('data/real_estate.csv', sep=';')\n",
    "real_estate.drop(['No'], axis=1, inplace=True)\n",
    "\n",
    "X_matrix: np.ndarray = np.array(real_estate.drop(['Y house price of unit area'], axis=1))#.reshape(-1, 6)\n",
    "y_matrix: np.ndarray = np.array(real_estate['Y house price of unit area']).reshape(-1, 1)\n",
    "\n",
    "X_matrix.shape, y_matrix.shape"
   ]
  },
  {
   "cell_type": "code",
   "execution_count": 89,
   "metadata": {},
   "outputs": [
    {
     "data": {
      "text/plain": [
       "array([[ 37.9],\n",
       "       [ 42.2],\n",
       "       [ 47.3],\n",
       "       [ 54.8],\n",
       "       [ 43.1],\n",
       "       [ 32.1],\n",
       "       [ 40.3],\n",
       "       [ 46.7],\n",
       "       [ 18.8],\n",
       "       [ 22.1],\n",
       "       [ 41.4],\n",
       "       [ 58.1],\n",
       "       [ 39.3],\n",
       "       [ 23.8],\n",
       "       [ 34.3],\n",
       "       [ 50.5],\n",
       "       [ 70.1],\n",
       "       [ 37.4],\n",
       "       [ 42.3],\n",
       "       [ 47.7],\n",
       "       [ 29.3],\n",
       "       [ 51.6],\n",
       "       [ 24.6],\n",
       "       [ 47.9],\n",
       "       [ 38.8],\n",
       "       [ 27. ],\n",
       "       [ 56.2],\n",
       "       [ 33.6],\n",
       "       [ 47. ],\n",
       "       [ 57.1],\n",
       "       [ 22.1],\n",
       "       [ 25. ],\n",
       "       [ 34.2],\n",
       "       [ 49.3],\n",
       "       [ 55.1],\n",
       "       [ 27.3],\n",
       "       [ 22.9],\n",
       "       [ 25.3],\n",
       "       [ 47.7],\n",
       "       [ 46.2],\n",
       "       [ 15.9],\n",
       "       [ 18.2],\n",
       "       [ 34.7],\n",
       "       [ 34.1],\n",
       "       [ 53.9],\n",
       "       [ 38.3],\n",
       "       [ 42. ],\n",
       "       [ 61.5],\n",
       "       [ 13.4],\n",
       "       [ 13.2],\n",
       "       [ 44.2],\n",
       "       [ 20.7],\n",
       "       [ 27. ],\n",
       "       [ 38.9],\n",
       "       [ 51.7],\n",
       "       [ 13.7],\n",
       "       [ 41.9],\n",
       "       [ 53.5],\n",
       "       [ 22.6],\n",
       "       [ 42.4],\n",
       "       [ 21.3],\n",
       "       [ 63.2],\n",
       "       [ 27.7],\n",
       "       [ 55. ],\n",
       "       [ 25.3],\n",
       "       [ 44.3],\n",
       "       [ 50.7],\n",
       "       [ 56.8],\n",
       "       [ 36.2],\n",
       "       [ 42. ],\n",
       "       [ 59. ],\n",
       "       [ 40.8],\n",
       "       [ 36.3],\n",
       "       [ 20. ],\n",
       "       [ 54.4],\n",
       "       [ 29.5],\n",
       "       [ 36.8],\n",
       "       [ 25.6],\n",
       "       [ 29.8],\n",
       "       [ 26.5],\n",
       "       [ 40.3],\n",
       "       [ 36.8],\n",
       "       [ 48.1],\n",
       "       [ 17.7],\n",
       "       [ 43.7],\n",
       "       [ 50.8],\n",
       "       [ 27. ],\n",
       "       [ 18.3],\n",
       "       [ 48. ],\n",
       "       [ 25.3],\n",
       "       [ 45.4],\n",
       "       [ 43.2],\n",
       "       [ 21.8],\n",
       "       [ 16.1],\n",
       "       [ 41. ],\n",
       "       [ 51.8],\n",
       "       [ 59.5],\n",
       "       [ 34.6],\n",
       "       [ 51. ],\n",
       "       [ 62.2],\n",
       "       [ 38.2],\n",
       "       [ 32.9],\n",
       "       [ 54.4],\n",
       "       [ 45.7],\n",
       "       [ 30.5],\n",
       "       [ 71. ],\n",
       "       [ 47.1],\n",
       "       [ 26.6],\n",
       "       [ 34.1],\n",
       "       [ 28.4],\n",
       "       [ 51.6],\n",
       "       [ 39.4],\n",
       "       [ 23.1],\n",
       "       [  7.6],\n",
       "       [ 53.3],\n",
       "       [ 46.4],\n",
       "       [ 12.2],\n",
       "       [ 13. ],\n",
       "       [ 30.6],\n",
       "       [ 59.6],\n",
       "       [ 31.3],\n",
       "       [ 48. ],\n",
       "       [ 32.5],\n",
       "       [ 45.5],\n",
       "       [ 57.4],\n",
       "       [ 48.6],\n",
       "       [ 62.9],\n",
       "       [ 55. ],\n",
       "       [ 60.7],\n",
       "       [ 41. ],\n",
       "       [ 37.5],\n",
       "       [ 30.7],\n",
       "       [ 37.5],\n",
       "       [ 39.5],\n",
       "       [ 42.2],\n",
       "       [ 20.8],\n",
       "       [ 46.8],\n",
       "       [ 47.4],\n",
       "       [ 43.5],\n",
       "       [ 42.5],\n",
       "       [ 51.4],\n",
       "       [ 28.9],\n",
       "       [ 37.5],\n",
       "       [ 40.1],\n",
       "       [ 28.4],\n",
       "       [ 45.5],\n",
       "       [ 52.2],\n",
       "       [ 43.2],\n",
       "       [ 45.1],\n",
       "       [ 39.7],\n",
       "       [ 48.5],\n",
       "       [ 44.7],\n",
       "       [ 28.9],\n",
       "       [ 40.9],\n",
       "       [ 20.7],\n",
       "       [ 15.6],\n",
       "       [ 18.3],\n",
       "       [ 35.6],\n",
       "       [ 39.4],\n",
       "       [ 37.4],\n",
       "       [ 57.8],\n",
       "       [ 39.6],\n",
       "       [ 11.6],\n",
       "       [ 55.5],\n",
       "       [ 55.2],\n",
       "       [ 30.6],\n",
       "       [ 73.6],\n",
       "       [ 43.4],\n",
       "       [ 37.4],\n",
       "       [ 23.5],\n",
       "       [ 14.4],\n",
       "       [ 58.8],\n",
       "       [ 58.1],\n",
       "       [ 35.1],\n",
       "       [ 45.2],\n",
       "       [ 36.5],\n",
       "       [ 19.2],\n",
       "       [ 42. ],\n",
       "       [ 36.7],\n",
       "       [ 42.6],\n",
       "       [ 15.5],\n",
       "       [ 55.9],\n",
       "       [ 23.6],\n",
       "       [ 18.8],\n",
       "       [ 21.8],\n",
       "       [ 21.5],\n",
       "       [ 25.7],\n",
       "       [ 22. ],\n",
       "       [ 44.3],\n",
       "       [ 20.5],\n",
       "       [ 42.3],\n",
       "       [ 37.8],\n",
       "       [ 42.7],\n",
       "       [ 49.3],\n",
       "       [ 29.3],\n",
       "       [ 34.6],\n",
       "       [ 36.6],\n",
       "       [ 48.2],\n",
       "       [ 39.1],\n",
       "       [ 31.6],\n",
       "       [ 25.5],\n",
       "       [ 45.9],\n",
       "       [ 31.5],\n",
       "       [ 46.1],\n",
       "       [ 26.6],\n",
       "       [ 21.4],\n",
       "       [ 44. ],\n",
       "       [ 34.2],\n",
       "       [ 26.2],\n",
       "       [ 40.9],\n",
       "       [ 52.2],\n",
       "       [ 43.5],\n",
       "       [ 31.1],\n",
       "       [ 58. ],\n",
       "       [ 20.9],\n",
       "       [ 48.1],\n",
       "       [ 39.7],\n",
       "       [ 40.8],\n",
       "       [ 43.8],\n",
       "       [ 40.2],\n",
       "       [ 78.3],\n",
       "       [ 38.5],\n",
       "       [ 48.5],\n",
       "       [ 42.3],\n",
       "       [ 46. ],\n",
       "       [ 49. ],\n",
       "       [ 12.8],\n",
       "       [ 40.2],\n",
       "       [ 46.6],\n",
       "       [ 19. ],\n",
       "       [ 33.4],\n",
       "       [ 14.7],\n",
       "       [ 17.4],\n",
       "       [ 32.4],\n",
       "       [ 23.9],\n",
       "       [ 39.3],\n",
       "       [ 61.9],\n",
       "       [ 39. ],\n",
       "       [ 40.6],\n",
       "       [ 29.7],\n",
       "       [ 28.8],\n",
       "       [ 41.4],\n",
       "       [ 33.4],\n",
       "       [ 48.2],\n",
       "       [ 21.7],\n",
       "       [ 40.8],\n",
       "       [ 40.6],\n",
       "       [ 23.1],\n",
       "       [ 22.3],\n",
       "       [ 15. ],\n",
       "       [ 30. ],\n",
       "       [ 13.8],\n",
       "       [ 52.7],\n",
       "       [ 25.9],\n",
       "       [ 51.8],\n",
       "       [ 17.4],\n",
       "       [ 26.5],\n",
       "       [ 43.9],\n",
       "       [ 63.3],\n",
       "       [ 28.8],\n",
       "       [ 30.7],\n",
       "       [ 24.4],\n",
       "       [ 53. ],\n",
       "       [ 31.7],\n",
       "       [ 40.6],\n",
       "       [ 38.1],\n",
       "       [ 23.7],\n",
       "       [ 41.1],\n",
       "       [ 40.1],\n",
       "       [ 23. ],\n",
       "       [117.5],\n",
       "       [ 26.5],\n",
       "       [ 40.5],\n",
       "       [ 29.3],\n",
       "       [ 41. ],\n",
       "       [ 49.7],\n",
       "       [ 34. ],\n",
       "       [ 27.7],\n",
       "       [ 44. ],\n",
       "       [ 31.1],\n",
       "       [ 45.4],\n",
       "       [ 44.8],\n",
       "       [ 25.6],\n",
       "       [ 23.5],\n",
       "       [ 34.4],\n",
       "       [ 55.3],\n",
       "       [ 56.3],\n",
       "       [ 32.9],\n",
       "       [ 51. ],\n",
       "       [ 44.5],\n",
       "       [ 37. ],\n",
       "       [ 54.4],\n",
       "       [ 24.5],\n",
       "       [ 42.5],\n",
       "       [ 38.1],\n",
       "       [ 21.8],\n",
       "       [ 34.1],\n",
       "       [ 28.5],\n",
       "       [ 16.7],\n",
       "       [ 46.1],\n",
       "       [ 36.9],\n",
       "       [ 35.7],\n",
       "       [ 23.2],\n",
       "       [ 38.4],\n",
       "       [ 29.4],\n",
       "       [ 55. ],\n",
       "       [ 50.2],\n",
       "       [ 24.7],\n",
       "       [ 53. ],\n",
       "       [ 19.1],\n",
       "       [ 24.7],\n",
       "       [ 42.2],\n",
       "       [ 78. ],\n",
       "       [ 42.8],\n",
       "       [ 41.6],\n",
       "       [ 27.3],\n",
       "       [ 42. ],\n",
       "       [ 37.5],\n",
       "       [ 49.8],\n",
       "       [ 26.9],\n",
       "       [ 18.6],\n",
       "       [ 37.7],\n",
       "       [ 33.1],\n",
       "       [ 42.5],\n",
       "       [ 31.3],\n",
       "       [ 38.1],\n",
       "       [ 62.1],\n",
       "       [ 36.7],\n",
       "       [ 23.6],\n",
       "       [ 19.2],\n",
       "       [ 12.8],\n",
       "       [ 15.6],\n",
       "       [ 39.6],\n",
       "       [ 38.4],\n",
       "       [ 22.8],\n",
       "       [ 36.5],\n",
       "       [ 35.6],\n",
       "       [ 30.9],\n",
       "       [ 36.3],\n",
       "       [ 50.4],\n",
       "       [ 42.9],\n",
       "       [ 37. ],\n",
       "       [ 53.5],\n",
       "       [ 46.6],\n",
       "       [ 41.2],\n",
       "       [ 37.9],\n",
       "       [ 30.8],\n",
       "       [ 11.2],\n",
       "       [ 53.7],\n",
       "       [ 47. ],\n",
       "       [ 42.3],\n",
       "       [ 28.6],\n",
       "       [ 25.7],\n",
       "       [ 31.3],\n",
       "       [ 30.1],\n",
       "       [ 60.7],\n",
       "       [ 45.3],\n",
       "       [ 44.9],\n",
       "       [ 45.1],\n",
       "       [ 24.7],\n",
       "       [ 47.1],\n",
       "       [ 63.3],\n",
       "       [ 40. ],\n",
       "       [ 48. ],\n",
       "       [ 33.1],\n",
       "       [ 29.5],\n",
       "       [ 24.8],\n",
       "       [ 20.9],\n",
       "       [ 43.1],\n",
       "       [ 22.8],\n",
       "       [ 42.1],\n",
       "       [ 51.7],\n",
       "       [ 41.5],\n",
       "       [ 52.2],\n",
       "       [ 49.5],\n",
       "       [ 23.8],\n",
       "       [ 30.5],\n",
       "       [ 56.8],\n",
       "       [ 37.4],\n",
       "       [ 69.7],\n",
       "       [ 53.3],\n",
       "       [ 47.3],\n",
       "       [ 29.3],\n",
       "       [ 40.3],\n",
       "       [ 12.9],\n",
       "       [ 46.6],\n",
       "       [ 55.3],\n",
       "       [ 25.6],\n",
       "       [ 27.3],\n",
       "       [ 67.7],\n",
       "       [ 38.6],\n",
       "       [ 31.3],\n",
       "       [ 35.3],\n",
       "       [ 40.3],\n",
       "       [ 24.7],\n",
       "       [ 42.5],\n",
       "       [ 31.9],\n",
       "       [ 32.2],\n",
       "       [ 23. ],\n",
       "       [ 37.3],\n",
       "       [ 35.5],\n",
       "       [ 27.7],\n",
       "       [ 28.5],\n",
       "       [ 39.7],\n",
       "       [ 41.2],\n",
       "       [ 37.2],\n",
       "       [ 40.5],\n",
       "       [ 22.3],\n",
       "       [ 28.1],\n",
       "       [ 15.4],\n",
       "       [ 50. ],\n",
       "       [ 40.6],\n",
       "       [ 52.5],\n",
       "       [ 63.9]])"
      ]
     },
     "execution_count": 89,
     "metadata": {},
     "output_type": "execute_result"
    }
   ],
   "source": [
    "y_matrix"
   ]
  },
  {
   "cell_type": "code",
   "execution_count": 90,
   "metadata": {},
   "outputs": [
    {
     "data": {
      "text/plain": [
       "((315, 6), (315, 1), (99, 6), (99, 1))"
      ]
     },
     "execution_count": 90,
     "metadata": {},
     "output_type": "execute_result"
    }
   ],
   "source": [
    "X_train: np.ndarray = X_matrix[0:315]\n",
    "y_train: np.ndarray = y_matrix[0:315]\n",
    "\n",
    "X_test: np.ndarray = X_matrix[315:]\n",
    "y_test: np.ndarray = y_matrix[315:]\n",
    "\n",
    "X_train.shape, y_train.shape, X_test.shape, y_test.shape"
   ]
  },
  {
   "attachments": {},
   "cell_type": "markdown",
   "metadata": {},
   "source": [
    "1. Teniendo en cuenta la teoría desarrollada en la primer parte del trabajo práctico y usando los datos de entrenamiento:"
   ]
  },
  {
   "cell_type": "markdown",
   "metadata": {},
   "source": [
    "a) Estimar los parámetros $\\hat\\beta$ que minimizan el error cuadrático medio para este problema."
   ]
  },
  {
   "cell_type": "code",
   "execution_count": 91,
   "metadata": {},
   "outputs": [
    {
     "data": {
      "text/plain": [
       "(array([[-1.48729480e+04],\n",
       "        [ 4.96257468e+00],\n",
       "        [-2.79853534e-01],\n",
       "        [-4.29360382e-03],\n",
       "        [ 1.11451659e+00],\n",
       "        [ 2.63780784e+02],\n",
       "        [-1.36639291e+01]]),\n",
       " (7, 1))"
      ]
     },
     "execution_count": 91,
     "metadata": {},
     "output_type": "execute_result"
    }
   ],
   "source": [
    "b_top: np.ndarray = linear_regression_ones(X_train, y_train)\n",
    "b_top, b_top.shape"
   ]
  },
  {
   "cell_type": "markdown",
   "metadata": {},
   "source": [
    "b) Encontrar $\\hat{y}$ la estimación de la variable de respuesta."
   ]
  },
  {
   "cell_type": "code",
   "execution_count": 92,
   "metadata": {},
   "outputs": [
    {
     "data": {
      "text/plain": [
       "((315, 1),\n",
       " array([47.44123745, 48.18652329, 49.49007885, 49.07818516, 46.71288779,\n",
       "        31.51438937, 38.93429606, 47.1651764 ,  9.39728961, 34.98835669,\n",
       "        33.66120505, 53.23865868, 40.77286558, 27.15066669, 46.61933074,\n",
       "        38.43797322, 51.17679411, 37.57651385, 46.56141306, 47.62066355,\n",
       "        35.56875662, 49.65985094, 28.5034439 , 48.11429241, 34.86591975,\n",
       "        32.40043133, 46.82006124, 41.62339851, 42.91267457, 46.05743174,\n",
       "        13.30283662, 41.04083591, 30.77241541, 46.70763344, 47.68642861,\n",
       "        35.74344301, 30.72997269, 30.49969211, 44.72414346, 46.3583111 ,\n",
       "        14.26449014, 16.29638554, 36.11581066, 40.79466846, 47.98152198,\n",
       "        39.56577709, 46.65882353, 37.57005623, 12.62385172,  9.61139649,\n",
       "        41.93778854, 23.43382658, 35.0965431 , 41.51269692, 45.96944018,\n",
       "        22.69910214, 43.25750995, 45.50127825, 13.49335302, 40.27477896,\n",
       "        34.20587211, 50.65001383, 29.91960004, 48.00950733, 33.12853907,\n",
       "        43.46926944, 47.03940953, 46.96314115, 43.43236665, 45.99203067,\n",
       "        54.39534629, 35.20071031, 45.05864925, 15.03726941, 53.38281385,\n",
       "        32.06827342, 38.08950098, 28.59194819, 33.02389638, 27.69278885,\n",
       "        45.02296112, 37.54608031, 45.71867825, 24.77693146, 44.18676627,\n",
       "        49.49754112, 31.05647543, 16.68029389, 37.9848535 , 16.36619727,\n",
       "        43.11110182, 39.58954762, 28.33533965, 22.98562952, 34.62265404,\n",
       "        44.20988688, 53.6275296 , 37.82725798, 47.54298406, 53.6275296 ,\n",
       "        45.52524024, 39.72573201, 47.42331788, 43.53469405, 35.18334338,\n",
       "        49.10740047, 48.13079437, 31.2675088 , 36.31999683, 37.02646302,\n",
       "        45.00568893, 44.95709335, 34.04757018, 42.95800182, 43.71687694,\n",
       "        39.09425355,  1.52263333, 13.05681024, 33.86773625, 47.89890706,\n",
       "        41.92955319, 43.4981345 , 40.80815321, 44.28392102, 47.34647572,\n",
       "        47.84017415, 35.50165932, 49.51734481, 36.74624443, 43.61529702,\n",
       "        45.10879014, 36.61456933, 40.6524664 , 48.42149025, 36.41840138,\n",
       "        30.74668398, 44.50993148, 45.2295923 , 39.03223147, 39.56020727,\n",
       "        46.7702048 , 40.36477219, 41.91391977, 43.4981345 , 30.11082119,\n",
       "        46.63291201, 40.97388371, 47.26106014, 14.87027926, 40.22044093,\n",
       "        40.11959074, 55.0608704 , 31.32347951, 42.96688903, 16.26840019,\n",
       "        15.03726941, 26.03723261, 42.7072375 , 45.69460444, 39.98196858,\n",
       "        46.88157757, 41.93926761, 12.79833736, 46.96314115, 41.38577741,\n",
       "        35.80700608, 52.00554409, 45.35824247, 36.76312266, 30.7700282 ,\n",
       "        12.74165653, 48.74456554, 54.39534629, 37.62849085, 52.21978871,\n",
       "        35.92991138, 13.23788624, 44.8397769 , 46.78083839, 39.8052975 ,\n",
       "         9.37679039, 52.15001093, 33.95596075, 15.79427547, 21.92381549,\n",
       "        30.77049799, 30.13750672, 22.48933018, 42.37880082, 13.54313127,\n",
       "        44.02003238, 39.59901325, 38.06375409, 48.94638423, 15.43423171,\n",
       "        39.44549719, 38.22018564, 42.26675152, 39.62086869, 46.3481071 ,\n",
       "        33.57338069, 48.72226216, 33.57464217, 44.04493588, 27.69278885,\n",
       "        37.62867638, 50.7256068 , 34.10158417, 28.57022524, 41.0798059 ,\n",
       "        49.9669544 , 44.35174549, 38.48171646, 52.02600036, 35.75617338,\n",
       "        46.61747482, 32.31044246, 41.64074823, 43.0862408 , 42.76225145,\n",
       "        44.89712336, 40.02942667, 49.22830088, 39.58954762, 42.02058424,\n",
       "        48.25206785, 13.4529149 , 43.70138861, 36.25048262, 26.41754965,\n",
       "        36.61456933, 12.9536781 , 12.19082993, 44.43807506, 34.29099504,\n",
       "        43.40199263, 55.48773835, 38.61574865, 38.25486309, 34.56462319,\n",
       "        33.58363238, 46.90004081, 34.31157533, 46.80767406, 39.20808458,\n",
       "        45.97325025, 43.51194002, 31.44876346, 31.13059233,  8.34964421,\n",
       "        39.5866371 , 23.09868407, 50.86931275, 26.13503677, 48.05638371,\n",
       "         9.04136662, 38.01175129, 39.70895402, 52.00554409, 32.60717096,\n",
       "        37.67873127, 29.84168747, 45.20162349, 36.23066098, 39.83895688,\n",
       "        40.74978527, 34.18759207, 36.72815283, 46.19681829, 32.22326262,\n",
       "        42.61101252, 44.00674653, 39.94411561, 42.48394886, 42.65511009,\n",
       "        47.62066355, 36.70153103, 31.29419433, 43.53469405, 41.00988807,\n",
       "        47.9827659 , 54.28809113, 31.417361  , 33.74510783, 43.39096423,\n",
       "        36.6630467 , 51.28616903, 36.67354568, 48.33216667, 47.82576163,\n",
       "        31.00787564, 45.11240733, 38.57953891, 42.82196904, 45.45991744,\n",
       "        30.85417007, 43.2268195 , 33.9635866 , 15.04948156, 47.86652951,\n",
       "        45.3057942 , 29.42921299, 31.41026878, 32.98560137, 34.76278714,\n",
       "        45.94145483, 42.55606392, 21.25087479, 47.54298406, 24.49663666,\n",
       "        31.68646789, 40.77045075, 44.43435243, 46.19036189, 47.44941237]))"
      ]
     },
     "execution_count": 92,
     "metadata": {},
     "output_type": "execute_result"
    }
   ],
   "source": [
    "X_train_ones: np.ndarray = ones_column(X_train)\n",
    "y_pred: np.ndarray = np.dot(X_train_ones, b_top)\n",
    "# Como y_pred son muchos valores, lo Transponemos para que sea más fácil de leer\n",
    "y_pred.shape, y_pred.T[0]"
   ]
  },
  {
   "cell_type": "markdown",
   "metadata": {},
   "source": [
    "c) ¿Cuánto vale el error cuadrático medio?\n",
    "\n",
    "Definimos error cuadrático medio como\n",
    "\n",
    "$$\\text{ECM} = \\frac{1}{n} \\sum_{i=1}^{n} (y_i - \\hat{y}_i)^2$$\n",
    "\n",
    "donde $y_i$ son observaciones de una variable y $\\hat{y}_i$ estimaciones de las mismas."
   ]
  },
  {
   "cell_type": "code",
   "execution_count": 93,
   "metadata": {},
   "outputs": [
    {
     "data": {
      "text/plain": [
       "83.16551901819933"
      ]
     },
     "execution_count": 93,
     "metadata": {},
     "output_type": "execute_result"
    }
   ],
   "source": [
    "def ECM(y: np.ndarray, y_pred: np.ndarray) -> float:\n",
    "    \"\"\"\n",
    "    Args:\n",
    "        y (np.ndarray): Valores reales\n",
    "        y_pred (np.ndarray): Valores predichos\n",
    "\n",
    "    Returns:\n",
    "        float: Error Cuadrático Medio (ECM) entre \"y\" e \"y_pred\"\n",
    "    \"\"\"\n",
    "    return np.sum((y - y_pred)**2) / len(y)\n",
    "\n",
    "ECM(y_train, y_pred)"
   ]
  },
  {
   "cell_type": "markdown",
   "metadata": {},
   "source": [
    "2. Utilizando los datos de test, analizar cuál es el error cuadrático medio al utilizar los parámetros $\\hat\\beta$ estimados en el punto anterior."
   ]
  },
  {
   "cell_type": "code",
   "execution_count": 94,
   "metadata": {},
   "outputs": [
    {
     "data": {
      "text/plain": [
       "(58.664540889884876,\n",
       " (99, 1),\n",
       " array([37.12187102, 45.77133855, 38.16978288, 55.36328886, 34.79096304,\n",
       "        11.84415193, 42.79997132, 40.4692553 , 44.11826882, 31.12740636,\n",
       "        39.56577709, 48.22654717, 45.07533101, 34.56439183, 13.05681024,\n",
       "        23.78023828, 12.55804271, 33.46826577, 43.43710762, 40.38654532,\n",
       "        41.58834977, 38.58209789, 35.5824506 , 41.90588397, 51.19354633,\n",
       "        34.53513945, 38.82623398, 50.10149606, 43.01073874, 29.87960471,\n",
       "        40.56199001, 34.62545454, 11.41758302, 47.53587399, 43.43710762,\n",
       "        41.12878858, 33.23522623, 26.66034628, 36.58658397, 31.68436508,\n",
       "        49.51734481, 40.33926522, 52.80757844, 47.84017415, 28.96608284,\n",
       "        45.94386938, 40.03916263, 45.21431811, 49.82837869, 42.41638396,\n",
       "        30.32398971, 25.72857891, 30.88301929, 40.74662439, 27.85211686,\n",
       "        44.37287352, 44.45947807, 39.23696035, 44.35174549, 48.67034002,\n",
       "        30.46228754, 34.28128381, 48.83406723, 40.32957742, 51.58868781,\n",
       "        47.76979092, 55.32570066, 13.21409612, 37.33997015, 12.770352  ,\n",
       "        51.70068144, 41.38577741, 31.44562414, 34.5775171 , 40.11746031,\n",
       "        44.6680919 , 31.49493697, 38.31332092, 43.20089517, 16.07665435,\n",
       "        39.59642796, 28.11931288, 46.2354224 , 34.28128381, 40.14258828,\n",
       "        41.0083894 , 33.43889367, 39.69647604, 45.21604183, 47.12612779,\n",
       "        37.14797269, 49.87727289, 26.59673692, 32.11037268, 14.23650479,\n",
       "        50.12948142, 47.14607351, 44.59379523, 54.01143795]))"
      ]
     },
     "execution_count": 94,
     "metadata": {},
     "output_type": "execute_result"
    }
   ],
   "source": [
    "X_test_ones: np.ndarray = ones_column(X_test)\n",
    "y_eval: np.ndarray = np.dot(X_test_ones, b_top)\n",
    "ECM(y_test, y_eval), y_eval.shape, y_eval.T[0]\n"
   ]
  },
  {
   "cell_type": "markdown",
   "metadata": {},
   "source": [
    "a) ¿Es la estimación mejor que sobre los datos originales?, ¿a qué se debe la discrepancia?"
   ]
  },
  {
   "cell_type": "markdown",
   "metadata": {},
   "source": [
    "La estimación es mejor que sobre los datos originales ya que el error cuadrático medio es menor.\n",
    "Esto se debe a que los datos de entrenamiento son más cercanos a los datos de test que a los datos \"originales\"."
   ]
  },
  {
   "cell_type": "markdown",
   "metadata": {},
   "source": [
    "b) ¿Qué sucede con el ECM del segundo conjunto de casas si se realiza la regresión sobre todos los datos al mismo tiempo (es decir, las 414 casas)?"
   ]
  },
  {
   "cell_type": "code",
   "execution_count": 95,
   "metadata": {},
   "outputs": [
    {
     "data": {
      "text/plain": [
       "77.13171720187393"
      ]
     },
     "execution_count": 95,
     "metadata": {},
     "output_type": "execute_result"
    }
   ],
   "source": [
    "b_: np.ndarray = linear_regression_ones(X_matrix, y_matrix)\n",
    "\n",
    "X_matrix_ones: np.ndarray = ones_column(X_matrix)\n",
    "\n",
    "y_pred_: np.ndarray = np.dot(X_matrix_ones, b_)\n",
    "ECM(y_matrix, y_pred_)"
   ]
  },
  {
   "cell_type": "markdown",
   "metadata": {},
   "source": [
    "3. Graficar el error cometido por cada casa. Es decir el valor absoluto de la diferencia entre el precio por Ping real y el estimado."
   ]
  },
  {
   "cell_type": "code",
   "execution_count": 96,
   "metadata": {},
   "outputs": [
    {
     "data": {
      "image/png": "[encoded data removed]",
      "text/plain": [
       "<Figure size 1000x500 with 1 Axes>"
      ]
     },
     "metadata": {},
     "output_type": "display_data"
    }
   ],
   "source": [
    "y_matrix_plt: np.ndarray = y_matrix.T[0]\n",
    "y_pred_plt: np.ndarray = y_pred_.T[0]\n",
    "\n",
    "plt.figure(figsize=(10, 5))\n",
    "plt.plot(y_matrix_plt, y_matrix_plt - y_pred_plt, 'o')\n",
    "plt.show()"
   ]
  },
  {
   "cell_type": "markdown",
   "metadata": {},
   "source": [
    "4. Imaginemos que se agrega una nueva columna a los datos que informa el año en que la misma fue construida. ¿Disminuiría esto el ECM?"
   ]
  },
  {
   "cell_type": "markdown",
   "metadata": {},
   "source": []
  }
 ],
 "metadata": {
  "colab": {
   "provenance": []
  },
  "kernelspec": {
   "display_name": "Python 3",
   "language": "python",
   "name": "python3"
  },
  "language_info": {
   "codemirror_mode": {
    "name": "ipython",
    "version": 3
   },
   "file_extension": ".py",
   "mimetype": "text/x-python",
   "name": "python",
   "nbconvert_exporter": "python",
   "pygments_lexer": "ipython3",
   "version": "3.8.12"
  }
 },
 "nbformat": 4,
 "nbformat_minor": 1
}
