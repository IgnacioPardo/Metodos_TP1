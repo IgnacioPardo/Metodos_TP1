{
  "cells": [
    {
      "attachments": {},
      "cell_type": "markdown",
      "metadata": {},
      "source": [
        "## Primera parte\n",
        "\n",
        "El objetivo de esta sección es deducir una fórmula para la solución óptima $\\beta^{*}$ siguien- do los pasos a continuación:"
      ]
    },
    {
      "cell_type": "markdown",
      "metadata": {
        "id": "RPuEHyZ3KN6P"
      },
      "source": [
        "a) Mostrar que el espacio columna de la matriz X es un subespacio vectorial de $\\rm I\\!R^n$:\n",
        "\n",
        "$$Col(X)= \\{b \\text{ en } \\rm I\\!R^n \\text{ tales que } b = X \\beta \\text{ con } \\beta \\text{ variando en } \\rm I\\!R^p \\}$$"
      ]
    },
    {
      "attachments": {},
      "cell_type": "markdown",
      "metadata": {},
      "source": [
        "Para mostrar que $Col(X)$ es un subespacio vectorial de $\\rm I\\!R^n$, debemos demostrar que $Col(X)$ cumple con las siguientes propiedades:\n",
        "\n",
        "1. El vector cero pertenece al espacio $Col(X)$.\n",
        "\n",
        "$$Col(X) = Gen\\{x_1, x_2, \\dots, x_p\\}$$\n",
        "\n",
        "El vector $0$ está en $Col(X)$ porque $0 * x_1 + 0 * x_2$ es combinación lineal de los vectores de %Col(X)%.\n",
        "\n",
        "2. La suma de dos vectores pertenecientes a $Col(X)$ también pertenece a $Col(X)$.\n",
        "\n",
        "Sean $u$, $v$ vectores en $Col(X)$, $s_1$, $s_2$ y $t_1$, $t_2$ escalares tales que:\n",
        "\n",
        "$$u = s_1 x_1 + s_2 x_2 \\iff u \\in Col(X)$$\n",
        "\n",
        "Por ser combinación lineal de los vectores de $Col(X)$.\n",
        "\n",
        "$$v = t_1 x_1 + t_2 x_2 \\iff v \\in Col(X)$$\n",
        "\n",
        "Por ser combinación lineal de los vectores de $Col(X)$.\n",
        "\n",
        "Entonces:\n",
        "\n",
        "$$u + v = s_1 x_1 + s_2 x_2 + t_1 x_1 + t_2 x_2$$\n",
        "$$u + v = (s_1 + t_1) x_1 + (s_2 + t_2) x_2$$\n",
        "\n",
        "Llamamos $c_1 = s_1 + t_1$ y $c_2 = s_2 + t_2$. \n",
        "\n",
        "Entonces:\n",
        "\n",
        "$$u + v = c_1 x_1 + c_2 x_2$$\n",
        "\n",
        "$$c_1 x_1 \\in Col(X) \\land c_2 x_2 \\in Col(X) \\implies  c_1 x_1 + c_2 x_2 \\in Col(X) \\implies u + v \\in Col(X)$$\n",
        "\n",
        "3. El producto de un escalar por un vector perteneciente a $Col(X)$ también pertenece a $Col(X)$.\n",
        "\n",
        "Sea $u$ un vector en $Col(X)$, $s_1$, $s_2$ escalares tales que:\n",
        "\n",
        "$$u = s_1 x_1 + s_2 x_2 \\iff u \\in Col(X)$$\n",
        "\n",
        "Llamemos $c$ al escalar.\n",
        "\n",
        "Entonces:\n",
        "\n",
        "$$cu = c * (s_1 x_1 + s_2 x_2)$$\n",
        "$$cu = (c * s_1) x_1 + (c * s_2) x_2$$\n",
        "\n",
        "Llamemos $c_1 = c * s_1$ y $c_2 = c * s_2$\n",
        "\n",
        "Entonces:\n",
        "\n",
        "$$cu = c_1 x_1 + c_2 x_2$$\n",
        "\n",
        "$$c_1 x_1 \\in Col(X) \\land c_2 x_2 \\in Col(X) \\implies  c_1 x_1 + c_2 x_2 \\in Col(X) \\implies cu \\in Col(X)$$\n",
        "\n",
        "Por lo tanto $Col(X)$ es un subespacio vectorial de $\\rm I\\!R^n$.\n"
      ]
    },
    {
      "attachments": {},
      "cell_type": "markdown",
      "metadata": {
        "id": "Jdk4NGv-Ltnw"
      },
      "source": [
        "b) Supongamos que cuando hablamos de vectores en $\\rm I\\!R^{n}$ nos referimos a vectores columna de $\\rm I\\!R^{n \\times 1}$. Mostrar en ese caso que el producto escalar entre dos vectores $u$, $v$ en $\\rm I\\!R^{n}$ puede calcularse como:\n",
        "$$u \\cdot v = v^{\\intercal} u$$\n",
        "donde operación en el lado derecho de la igualdad es el producto de matrices usual."
      ]
    },
    {
      "attachments": {},
      "cell_type": "markdown",
      "metadata": {},
      "source": [
        "Sean $u$, $v$ vectores en $\\rm I\\!R^{n}$.\n",
        "\n",
        "$$u = \\begin{bmatrix}{\n",
        "u_1} \\\\ {u_2} \\\\ \\vdots \\\\ {u_n}\n",
        "\\end{bmatrix}, v = \\begin{bmatrix}{\n",
        "v_1} \\\\ {v_2} \\\\ \\vdots \\\\ {v_n}\n",
        "\\end{bmatrix}$$\n",
        "\n",
        "Entonces:\n",
        "\n",
        "$$v^{\\intercal} = \\begin{bmatrix}{\n",
        "v_1} & {v_2} & \\dots & {v_n}\n",
        "\\end{bmatrix}$$\n",
        "\n",
        "$$u \\cdot v = \\begin{bmatrix}{\n",
        "u_1} & {u_2} & \\dots & {u_n}\n",
        "\\end{bmatrix} \\begin{bmatrix}{\n",
        "v_1} \\\\ {v_2} \\\\ \\vdots \\\\ {v_n}\n",
        "\\end{bmatrix} = \\sum_{i=1}^{n} u_i v_i$$\n"
      ]
    },
    {
      "attachments": {},
      "cell_type": "markdown",
      "metadata": {},
      "source": [
        "c) Aplicando el teorema tomando como subespacio $S$ el subespacio del ítem (a), el punto $y$ de $\\rm I\\!R^{n}$ como el vector de la variable dependiente, y el vector $b$ como $b = X \\beta^{∗}$, convertir esta ecuación de optimalidad\n",
        "$$|| {y−X\\beta^{∗}} ||= \\min_{\\beta \\text{ en } \\rm I\\!R^{p}} ||y − X\\beta||$$\n",
        "en la condición de ortogonalidad que corresponde a la equivalencia 2 del teorema."
      ]
    },
    {
      "attachments": {},
      "cell_type": "markdown",
      "metadata": {},
      "source": [
        "$$\\forall \\beta \\in \\rm I\\!R^{p}, (y - X \\beta^{*}) \\cdot X \\beta = 0$$\n"
      ]
    },
    {
      "attachments": {},
      "cell_type": "markdown",
      "metadata": {},
      "source": [
        "d) A la ecuación obtenida en el ítem (c), aplicarle la identidad del producto escalar vista en el item (b),\n",
        "para llegar a la ecuación:\n",
        "$$X^\\intercal (y − X\\beta^{∗}) \\cdot \\beta = 0$$"
      ]
    },
    {
      "attachments": {},
      "cell_type": "markdown",
      "metadata": {},
      "source": [
        "$$(y - X \\beta^{*}) \\cdot X \\beta = 0$$\n",
        "\n",
        "Llamemos $u = y - X \\beta^{*}$ y $v = X \\beta$ con $u \\in \\rm I\\!R^{n}$ y $v \\in \\rm I\\!R^{n}$.\n",
        "\n",
        "$$\n",
        "\\begin{align*}\n",
        "u \\cdot v = v^{\\intercal} u\n",
        "&\\implies (X \\beta)^\\intercal (y - X \\beta^{*}) = 0 \\\\\n",
        "&\\implies  \\beta^\\intercal X^\\intercal (y - X \\beta^{*}) = 0 \\\\\n",
        "\\end{align*}$$\n",
        "\n",
        "Ahora llamamos $k = \\beta^\\intercal$ y $q = X^\\intercal (y - X \\beta^{*})$.\n",
        "\n",
        "Entonces, por propiedad de la transpuesta: \n",
        "\n",
        "$$\n",
        "\\begin{align*}\n",
        "kq = q \\cdot k^\\intercal \\implies\n",
        "0 &= \\beta^\\intercal X^\\intercal (y - X \\beta^{*}) \\\\\n",
        "&= X^\\intercal (y - X \\beta^{*}) \\cdot {\\beta^{\\intercal}}^{\\intercal} \\\\\n",
        "&= X^\\intercal (y - X \\beta^{*}) \\cdot \\beta \\\\\n",
        "\\end{align*}\n",
        "$$\n",
        "\n",
        "$$\n",
        "\\implies  X^\\intercal (y - X \\beta^{*}) \\cdot \\beta = 0 \\\\\n",
        "$$"
      ]
    },
    {
      "attachments": {},
      "cell_type": "markdown",
      "metadata": {},
      "source": [
        "e) Se sabe que el único vector que es ortogonal a todo vector $v$ de $\\rm I\\!R^{n}$ es el vector nulo. Es decir, si u es un vector fijo tal que $u \\cdot v = 0$ para todo $v$ en $\\rm I\\!R^{n}$, entonces $u = 0$. Usando esto y la ecuación obtenida en\n",
        "el ítem (d), llegar a la fórmula:\n",
        "$$X^\\intercal X \\beta^{∗} =X^\\intercal y $$"
      ]
    },
    {
      "attachments": {},
      "cell_type": "markdown",
      "metadata": {},
      "source": [
        "f) Finalmente, suponiendo que las columnas de X son linealmente independientes, se tiene que la matriz $X^{\\intercal} X$ es invertible. Despejar $\\beta^{∗}$ de la ecuación del ítem (e) para llegar a la fórmula de la solución óptima al problema de regresión."
      ]
    },
    {
      "attachments": {},
      "cell_type": "markdown",
      "metadata": {},
      "source": [
        "## Segunda parte.\n",
        "En esta sección la idea es realizar regresión lineal en $\\rm I\\!R^{2}$ y analizar como se comportan las soluciones obtenidas.\n"
      ]
    },
    {
      "attachments": {},
      "cell_type": "markdown",
      "metadata": {},
      "source": [
        "### 1. Usando los datos del archivo ejercicio_1.csv:"
      ]
    },
    {
      "attachments": {},
      "cell_type": "markdown",
      "metadata": {},
      "source": [
        "a) Graficar todos los puntos en el plano $xy$.\n",
        "Nota: La primer columna del archivo marca el valor de $x$ y la segunda el valor de $y$ de cada punto. Recomendamos usar la biblioteca pandas para leer los archivos con la función read_csv."
      ]
    },
    {
      "attachments": {},
      "cell_type": "markdown",
      "metadata": {},
      "source": [
        "b) Utilizando los conceptos teóricos desarrollados en la primera parte, hallar la recta que mejor aproxima a los datos."
      ]
    },
    {
      "attachments": {},
      "cell_type": "markdown",
      "metadata": {},
      "source": [
        "c) Realizar nuevamente los incisos (a) y (b) pero considerando los puntos \n",
        "$${(x_i, y_i + 12) con i = 1...n}$$\n",
        "\n",
        "donde $(x_i , y_i)$ eran los puntos originales. ¿Es buena la aproximación realizada?, ¿cuál es el problema?"
      ]
    },
    {
      "attachments": {},
      "cell_type": "markdown",
      "metadata": {},
      "source": [
        "d) ¿Cómo se podría extender el modelo para poder aproximar cualquier recta en el plano?"
      ]
    },
    {
      "attachments": {},
      "cell_type": "markdown",
      "metadata": {},
      "source": [
        "### 2. Usando los datos del archivo ejercicio_2.csv:"
      ]
    },
    {
      "attachments": {},
      "cell_type": "markdown",
      "metadata": {},
      "source": [
        "a) Graficar y aproximar los puntos con una recta."
      ]
    },
    {
      "attachments": {},
      "cell_type": "markdown",
      "metadata": {},
      "source": [
        "b) Imaginemos que los datos forman parte de mediciones de algún tipo, como por ejemplo la temperatura de un procesador a lo largo del tiempo), y queremos predecir cuál va a ser la temperatura en el futuro. ¿Es buena la aproximación que realizamos?, ¿cuál fue el problema en este caso?"
      ]
    },
    {
      "attachments": {},
      "cell_type": "markdown",
      "metadata": {},
      "source": [
        "## Tercera parte. Regresión lineal en datos reales."
      ]
    },
    {
      "attachments": {},
      "cell_type": "markdown",
      "metadata": {},
      "source": [
        "En esta sección utilizaremos el conjunto de datos provisto en [Machine Learning Repository](https://archive.ics.uci.edu/ml/datasets/Real+estate+valuation+data+set). Este consiste en datos de ventas de 414 casas en Taiwan. La información provista por casa es (en orden):"
      ]
    },
    {
      "attachments": {},
      "cell_type": "markdown",
      "metadata": {},
      "source": [
        "\n",
        "i) La fecha en que se realizó la transacción. Expresada en formato \n",
        "\n",
        "$$\\text{año} + \\frac{\\text{numero\\_mes}}{12}$$\n",
        "\n",
        "ii) La edad de la casa en años.\n",
        "\n",
        "iii) La distancia a la estación de tren o subte más cercana en metros.\n",
        "\n",
        "iv) La cantidad de almacenes alcanzables a pie.\n",
        "\n",
        "v) La latitud en grados.\n",
        "\n",
        "vi) La longitud en grados.\n",
        "\n",
        "vii) El precio por Ping. La cual es una unidad utilizada en Taiwan que representa 3,3 metros cuadrados."
      ]
    },
    {
      "attachments": {},
      "cell_type": "markdown",
      "metadata": {},
      "source": [
        "Vamos a dividir este conjunto de datos en dos:\n",
        "\n",
        "i) Datos de entrenamiento: usamos los datos desde la observación 1 a la 315 inclusive.\n",
        "\n",
        "ii) Datos de test: usamos los datos desde la observación 316 a la 414 inclusive."
      ]
    },
    {
      "attachments": {},
      "cell_type": "markdown",
      "metadata": {},
      "source": [
        "1. Teniendo en cuenta la teoría desarrollada en la primer parte del trabajo práctico y usando los datos de entrenamiento:"
      ]
    },
    {
      "attachments": {},
      "cell_type": "markdown",
      "metadata": {},
      "source": [
        "a) Estimar los parámetros $\\hat\\beta$ que minimizan el error cuadrático medio para este problema."
      ]
    },
    {
      "attachments": {},
      "cell_type": "markdown",
      "metadata": {},
      "source": [
        "b) Encontrar $\\hat{y}$ la estimación de la variable de respuesta."
      ]
    },
    {
      "attachments": {},
      "cell_type": "markdown",
      "metadata": {},
      "source": [
        "c) ¿Cuánto vale el error cuadrático medio?\n",
        "\n",
        "Definimos error cuadrático medio como\n",
        "\n",
        "$$\\text{ECM} = \\frac{1}{n} \\sum_{i=1}^{n} (y_i - \\hat{y}_i)^2$$\n",
        "\n",
        "donde $y_i$ son observaciones de una variable y $\\hat{y}_i$ estimaciones de las mismas."
      ]
    },
    {
      "attachments": {},
      "cell_type": "markdown",
      "metadata": {},
      "source": [
        "2. Utilizando los datos de test, analizar cuál es el error cuadrático medio al utilizar los parámetros $\\hat\\beta$ estimados en el punto anterior."
      ]
    },
    {
      "attachments": {},
      "cell_type": "markdown",
      "metadata": {},
      "source": [
        "a) ¿Es la estimación mejor que sobre los datos originales?, ¿a qué se debe la discrepancia?"
      ]
    },
    {
      "attachments": {},
      "cell_type": "markdown",
      "metadata": {},
      "source": [
        "b) ¿Qué sucede con el ECM del segundo conjunto de casas si se realiza la regresión sobre todos los datos al mismo tiempo (es decir, las 414 casas)?"
      ]
    },
    {
      "attachments": {},
      "cell_type": "markdown",
      "metadata": {},
      "source": [
        "3. Graficar el error cometido por cada casa. Es decir el valor absoluto de la diferencia entre el precio por Ping real y el estimado."
      ]
    },
    {
      "attachments": {},
      "cell_type": "markdown",
      "metadata": {},
      "source": [
        "4. Imaginemos que se agrega una nueva columna a los datos que informa el año en que la misma fue construida. ¿Disminuiría esto el ECM?"
      ]
    },
    {
      "cell_type": "markdown",
      "metadata": {},
      "source": []
    }
  ],
  "metadata": {
    "colab": {
      "provenance": []
    },
    "kernelspec": {
      "display_name": "Python 3",
      "name": "python3"
    },
    "language_info": {
      "codemirror_mode": {
        "name": "ipython",
        "version": 3
      },
      "file_extension": ".py",
      "mimetype": "text/x-python",
      "name": "python",
      "nbconvert_exporter": "python",
      "pygments_lexer": "ipython3",
      "version": "3.9.4"
    }
  },
  "nbformat": 4,
  "nbformat_minor": 0
}
